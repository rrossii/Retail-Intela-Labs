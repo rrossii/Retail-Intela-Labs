{
 "cells": [
  {
   "cell_type": "markdown",
   "metadata": {},
   "source": [
    "<center>\n",
    "    <img src=\"https://cf-courses-data.s3.us.cloud-object-storage.appdomain.cloud/assets/logos/SN_web_lightmode.png\" width=\"300\" alt=\"cognitiveclass.ai logo\"  />\n",
    "</center>\n",
    "\n",
    "# **Retail Sales Dataset 2018-2022**\n",
    "\n",
    "## **Lab 2. Data Wrangling**\n",
    "\n",
    "Estimated time needed: **30** minutes\n",
    "\n",
    "### **Dataset Attributes**\n",
    "*   Date: year and month\n",
    "*   SKU: unique code consisting of letters and numbers that identify each product\n",
    "*   Group: group of related products which share some common attributes\n",
    "*   Units Pkg: package weight (kg)\n",
    "*   Avg Price Pkg: average price per package\n",
    "*   Sales Pkg: total package sales per month\n",
    "\n",
    "### **Target Field**\n",
    "*   Turnover per month\n",
    "\n",
    "## **Objectives**\n",
    "\n",
    "After completing this lab you will be able to:\n",
    "\n",
    "*   Detect and handle missing values\n",
    "*   Correct data format\n",
    "*   Standardize and normalize data\n"
   ]
  },
  {
   "cell_type": "markdown",
   "metadata": {
    "tags": []
   },
   "source": [
    "<h2>Table of Contents</h2>\n",
    "\n",
    "<div class=\"alert alert-block alert-info\" style=\"margin-top: 20px\">\n",
    "<ul>\n",
    "    <li><a href=\"https://#identify_handle_missing_values\">Identify and handle missing values</a>\n",
    "        <ul>\n",
    "            <li><a href=\"https://#identify_missing_values\">Identify missing values</a></li>\n",
    "            <li><a href=\"https://#deal_missing_values\">Deal with missing values</a></li>\n",
    "            <li><a href=\"https://#correct_data_format\">Correct data format</a></li>\n",
    "        </ul>\n",
    "    </li>\n",
    "    <li><a href=\"https://#data_standardization\">Data standardization</a></li>\n",
    "    <li><a href=\"https://#data_normalization\">Data normalization (centering/scaling)</a></li>\n",
    "    <li><a href=\"https://#binning\">Binning</a></li>\n",
    "    <li><a href=\"https://#indicator\">Indicator variable</a></li>\n",
    "</ul>\n",
    "\n",
    "</div>\n",
    "\n",
    "<hr>\n"
   ]
  },
  {
   "cell_type": "markdown",
   "metadata": {},
   "source": [
    "## **What is the purpose of data wrangling?**\n",
    "If you run the lab locally using Anaconda, you can load the correct library and versions by uncommenting the following:"
   ]
  },
  {
   "cell_type": "markdown",
   "metadata": {},
   "source": [
    "### **Import Data**\n",
    "<p>\n",
    "You can find the \"Retail Sales Dataset 2018-2022\" from the following link: <a href=\"https://www.kaggle.com/datasets/tsmldata/retail-sales-dataset-2018-2022\">https://www.kaggle.com/datasets/tsmldata/retail-sales-dataset-2018-2022</a>. \n",
    "We will be using this dataset throughout this course.\n",
    "</p>\n"
   ]
  },
  {
   "cell_type": "markdown",
   "metadata": {},
   "source": [
    "#### **Import pandas**\n",
    "If you run the lab locally using Anaconda, you can load the correct library and versions by uncommenting the following:\n"
   ]
  },
  {
   "cell_type": "code",
   "execution_count": 1,
   "metadata": {},
   "outputs": [],
   "source": [
    "#If you run the lab locally using Anaconda, you can load the correct library and versions by uncommenting the following:\n",
    "#install specific version of libraries used in lab\n",
    "#! mamba install pandas==1.3.3\n",
    "#! mamba install numpy=1.21.2\n"
   ]
  },
  {
   "cell_type": "code",
   "execution_count": 2,
   "metadata": {},
   "outputs": [],
   "source": [
    "import pandas as pd\n",
    "import numpy as np\n",
    "import matplotlib.pylab as plt\n",
    "\n",
    "pd.set_option('display.precision', 2)"
   ]
  },
  {
   "cell_type": "markdown",
   "metadata": {},
   "source": [
    "## **Reading the dataset from the URL**\n"
   ]
  },
  {
   "cell_type": "markdown",
   "metadata": {},
   "source": [
    "First, we assign the URL of the dataset to \"filename\".\n"
   ]
  },
  {
   "cell_type": "markdown",
   "metadata": {},
   "source": [
    "This dataset was hosted on IBM Cloud object. Click <a href=\"https://cocl.us/corsera_da0101en_notebook_bottom?utm_medium=Exinfluencer&utm_source=Exinfluencer&utm_content=000026UJ&utm_term=10006555&utm_id=NA-SkillsNetwork-Channel-SkillsNetworkCoursesIBMDeveloperSkillsNetworkDA0101ENSkillsNetwork20235326-2021-01-01\">HERE</a> for free storage.\n"
   ]
  },
  {
   "cell_type": "code",
   "execution_count": 3,
   "metadata": {},
   "outputs": [],
   "source": [
    "filename = \"sales_1.csv\""
   ]
  },
  {
   "cell_type": "markdown",
   "metadata": {},
   "source": [
    "Use the Pandas method <b>read_csv()</b> to load the data from the web address. Set the parameter  \"names\" equal to the Python list \"headers\".\n"
   ]
  },
  {
   "cell_type": "code",
   "execution_count": 4,
   "metadata": {},
   "outputs": [],
   "source": [
    "df = pd.read_csv(filename)"
   ]
  },
  {
   "cell_type": "markdown",
   "metadata": {},
   "source": [
    "Use the method <b>head()</b> to display the first five rows of the dataframe.\n"
   ]
  },
  {
   "cell_type": "code",
   "execution_count": 5,
   "metadata": {},
   "outputs": [
    {
     "data": {
      "text/html": [
       "<div>\n",
       "<style scoped>\n",
       "    .dataframe tbody tr th:only-of-type {\n",
       "        vertical-align: middle;\n",
       "    }\n",
       "\n",
       "    .dataframe tbody tr th {\n",
       "        vertical-align: top;\n",
       "    }\n",
       "\n",
       "    .dataframe thead th {\n",
       "        text-align: right;\n",
       "    }\n",
       "</style>\n",
       "<table border=\"1\" class=\"dataframe\">\n",
       "  <thead>\n",
       "    <tr style=\"text-align: right;\">\n",
       "      <th></th>\n",
       "      <th>Date</th>\n",
       "      <th>SKU</th>\n",
       "      <th>Group</th>\n",
       "      <th>Units Pkg</th>\n",
       "      <th>Avg Price Pkg</th>\n",
       "      <th>Sales Pkg</th>\n",
       "    </tr>\n",
       "  </thead>\n",
       "  <tbody>\n",
       "    <tr>\n",
       "      <th>0</th>\n",
       "      <td>201801</td>\n",
       "      <td>SKU_01</td>\n",
       "      <td>A</td>\n",
       "      <td>13</td>\n",
       "      <td>5</td>\n",
       "      <td>879</td>\n",
       "    </tr>\n",
       "    <tr>\n",
       "      <th>1</th>\n",
       "      <td>201801</td>\n",
       "      <td>SKU_02</td>\n",
       "      <td>B</td>\n",
       "      <td>7</td>\n",
       "      <td>7</td>\n",
       "      <td>8</td>\n",
       "    </tr>\n",
       "    <tr>\n",
       "      <th>2</th>\n",
       "      <td>201801</td>\n",
       "      <td>SKU_03</td>\n",
       "      <td>B</td>\n",
       "      <td>7</td>\n",
       "      <td>6</td>\n",
       "      <td>197</td>\n",
       "    </tr>\n",
       "    <tr>\n",
       "      <th>3</th>\n",
       "      <td>201801</td>\n",
       "      <td>SKU_04</td>\n",
       "      <td>C</td>\n",
       "      <td>4</td>\n",
       "      <td>6</td>\n",
       "      <td>1</td>\n",
       "    </tr>\n",
       "    <tr>\n",
       "      <th>4</th>\n",
       "      <td>201801</td>\n",
       "      <td>SKU_05</td>\n",
       "      <td>C</td>\n",
       "      <td>6</td>\n",
       "      <td>8</td>\n",
       "      <td>1</td>\n",
       "    </tr>\n",
       "  </tbody>\n",
       "</table>\n",
       "</div>"
      ],
      "text/plain": [
       "     Date     SKU Group  Units Pkg  Avg Price Pkg  Sales Pkg\n",
       "0  201801  SKU_01     A         13              5        879\n",
       "1  201801  SKU_02     B          7              7          8\n",
       "2  201801  SKU_03     B          7              6        197\n",
       "3  201801  SKU_04     C          4              6          1\n",
       "4  201801  SKU_05     C          6              8          1"
      ]
     },
     "execution_count": 5,
     "metadata": {},
     "output_type": "execute_result"
    }
   ],
   "source": [
    "# To see what the data set looks like, we'll use the head() method.\n",
    "df.head(5)"
   ]
  },
  {
   "cell_type": "markdown",
   "metadata": {},
   "source": [
    "Let's check if there are any uncorrect values."
   ]
  },
  {
   "cell_type": "code",
   "execution_count": 6,
   "metadata": {},
   "outputs": [
    {
     "name": "stdout",
     "output_type": "stream",
     "text": [
      "<class 'pandas.core.frame.DataFrame'>\n",
      "RangeIndex: 4138 entries, 0 to 4137\n",
      "Data columns (total 6 columns):\n",
      " #   Column         Non-Null Count  Dtype \n",
      "---  ------         --------------  ----- \n",
      " 0   Date           4138 non-null   int64 \n",
      " 1   SKU            4138 non-null   object\n",
      " 2   Group          4138 non-null   object\n",
      " 3   Units Pkg      4138 non-null   int64 \n",
      " 4   Avg Price Pkg  4138 non-null   int64 \n",
      " 5   Sales Pkg      4138 non-null   int64 \n",
      "dtypes: int64(4), object(2)\n",
      "memory usage: 194.1+ KB\n"
     ]
    }
   ],
   "source": [
    "df.info()"
   ]
  },
  {
   "cell_type": "markdown",
   "metadata": {},
   "source": [
    "As we can see above, there are no uncorrect values."
   ]
  },
  {
   "cell_type": "markdown",
   "metadata": {
    "tags": []
   },
   "source": [
    "<h2 id=\"identify_missing_values\"><b>Identify missing values</b></h2>"
   ]
  },
  {
   "cell_type": "markdown",
   "metadata": {},
   "source": [
    "#### **Evaluating for Missing Data**\n",
    "\n",
    "The missing values are converted by default. We use the following functions to identify these missing values. There are two methods to detect missing data:\n",
    "\n",
    "<ol>\n",
    "    <li><b>.isnull()</b></li>\n",
    "    <li><b>.notnull()</b></li>\n",
    "</ol>\n",
    "The output is a boolean value indicating whether the value that is passed into the argument is in fact missing data.\n"
   ]
  },
  {
   "cell_type": "code",
   "execution_count": 7,
   "metadata": {},
   "outputs": [
    {
     "data": {
      "text/html": [
       "<div>\n",
       "<style scoped>\n",
       "    .dataframe tbody tr th:only-of-type {\n",
       "        vertical-align: middle;\n",
       "    }\n",
       "\n",
       "    .dataframe tbody tr th {\n",
       "        vertical-align: top;\n",
       "    }\n",
       "\n",
       "    .dataframe thead th {\n",
       "        text-align: right;\n",
       "    }\n",
       "</style>\n",
       "<table border=\"1\" class=\"dataframe\">\n",
       "  <thead>\n",
       "    <tr style=\"text-align: right;\">\n",
       "      <th></th>\n",
       "      <th>Date</th>\n",
       "      <th>SKU</th>\n",
       "      <th>Group</th>\n",
       "      <th>Units Pkg</th>\n",
       "      <th>Avg Price Pkg</th>\n",
       "      <th>Sales Pkg</th>\n",
       "    </tr>\n",
       "  </thead>\n",
       "  <tbody>\n",
       "    <tr>\n",
       "      <th>0</th>\n",
       "      <td>False</td>\n",
       "      <td>False</td>\n",
       "      <td>False</td>\n",
       "      <td>False</td>\n",
       "      <td>False</td>\n",
       "      <td>False</td>\n",
       "    </tr>\n",
       "    <tr>\n",
       "      <th>1</th>\n",
       "      <td>False</td>\n",
       "      <td>False</td>\n",
       "      <td>False</td>\n",
       "      <td>False</td>\n",
       "      <td>False</td>\n",
       "      <td>False</td>\n",
       "    </tr>\n",
       "    <tr>\n",
       "      <th>2</th>\n",
       "      <td>False</td>\n",
       "      <td>False</td>\n",
       "      <td>False</td>\n",
       "      <td>False</td>\n",
       "      <td>False</td>\n",
       "      <td>False</td>\n",
       "    </tr>\n",
       "    <tr>\n",
       "      <th>3</th>\n",
       "      <td>False</td>\n",
       "      <td>False</td>\n",
       "      <td>False</td>\n",
       "      <td>False</td>\n",
       "      <td>False</td>\n",
       "      <td>False</td>\n",
       "    </tr>\n",
       "    <tr>\n",
       "      <th>4</th>\n",
       "      <td>False</td>\n",
       "      <td>False</td>\n",
       "      <td>False</td>\n",
       "      <td>False</td>\n",
       "      <td>False</td>\n",
       "      <td>False</td>\n",
       "    </tr>\n",
       "  </tbody>\n",
       "</table>\n",
       "</div>"
      ],
      "text/plain": [
       "    Date    SKU  Group  Units Pkg  Avg Price Pkg  Sales Pkg\n",
       "0  False  False  False      False          False      False\n",
       "1  False  False  False      False          False      False\n",
       "2  False  False  False      False          False      False\n",
       "3  False  False  False      False          False      False\n",
       "4  False  False  False      False          False      False"
      ]
     },
     "execution_count": 7,
     "metadata": {},
     "output_type": "execute_result"
    }
   ],
   "source": [
    "missing_data = df.isnull()\n",
    "missing_data.head(5)"
   ]
  },
  {
   "cell_type": "markdown",
   "metadata": {},
   "source": [
    "\"True\" means the value is a missing value while \"False\" means the value is not a missing value.\n"
   ]
  },
  {
   "cell_type": "markdown",
   "metadata": {},
   "source": [
    "<h4><b>Count missing values in each column</b></h4>\n",
    "<p>\n",
    "Using a for loop in Python, we can quickly figure out the number of missing values in each column. As mentioned above, \"True\" represents a missing value and \"False\" means the value is present in the dataset.  In the body of the for loop the method <code>value_counts()</code> counts the number of \"True\" values. \n",
    "</p>\n"
   ]
  },
  {
   "cell_type": "code",
   "execution_count": 8,
   "metadata": {},
   "outputs": [
    {
     "name": "stdout",
     "output_type": "stream",
     "text": [
      "Date\n",
      "False    4138\n",
      "Name: Date, dtype: int64\n",
      "\n",
      "SKU\n",
      "False    4138\n",
      "Name: SKU, dtype: int64\n",
      "\n",
      "Group\n",
      "False    4138\n",
      "Name: Group, dtype: int64\n",
      "\n",
      "Units Pkg\n",
      "False    4138\n",
      "Name: Units Pkg, dtype: int64\n",
      "\n",
      "Avg Price Pkg\n",
      "False    4138\n",
      "Name: Avg Price Pkg, dtype: int64\n",
      "\n",
      "Sales Pkg\n",
      "False    4138\n",
      "Name: Sales Pkg, dtype: int64\n",
      "\n"
     ]
    }
   ],
   "source": [
    "for column in missing_data.columns.values.tolist():\n",
    "    print(column)\n",
    "    print (missing_data[column].value_counts())\n",
    "    print(\"\")    "
   ]
  },
  {
   "cell_type": "markdown",
   "metadata": {},
   "source": [
    "Based on the summary above, each column has 4138 rows of data and there are no columns that contain missing data."
   ]
  },
  {
   "cell_type": "markdown",
   "metadata": {},
   "source": [
    "<h3 id=\"correct_data_format\"><b>Correct data format</b></h3>\n",
    "<p>This step in data cleaning is checking and making sure that all data is in the correct format (int, float, text or other).</p>\n",
    "\n",
    "In Pandas, we use:\n",
    "\n",
    "<p><b>.dtype()</b> to check the data type</p>\n",
    "<p><b>.astype()</b> to change the data type</p>\n"
   ]
  },
  {
   "cell_type": "markdown",
   "metadata": {},
   "source": [
    "<h4>Let's list the data types for each column</h4>"
   ]
  },
  {
   "cell_type": "code",
   "execution_count": 9,
   "metadata": {},
   "outputs": [
    {
     "data": {
      "text/plain": [
       "Date              int64\n",
       "SKU              object\n",
       "Group            object\n",
       "Units Pkg         int64\n",
       "Avg Price Pkg     int64\n",
       "Sales Pkg         int64\n",
       "dtype: object"
      ]
     },
     "execution_count": 9,
     "metadata": {},
     "output_type": "execute_result"
    }
   ],
   "source": [
    "df.dtypes"
   ]
  },
  {
   "cell_type": "markdown",
   "metadata": {},
   "source": [
    "<p>As we can see above, some columns are not of the correct data type. Group and SKU are categorical variables, so instead of \"object\" these have to be \"category\" type. Column \"Date\" has type \"int64\", but it's better to convert it to \"datetime\". We have to convert data types into a proper format for uncorrect column using the <code>astype()</code> method.</p> \n"
   ]
  },
  {
   "cell_type": "markdown",
   "metadata": {
    "tags": []
   },
   "source": [
    "* **Convert data type of \"Date\" column**</br>\n",
    "We need to transform data type in \"Date\" column from <code>int64</code> to <code>datetime</code>. We have information only about year and month, so day doesn't matter."
   ]
  },
  {
   "cell_type": "code",
   "execution_count": 10,
   "metadata": {},
   "outputs": [],
   "source": [
    "df[\"Date\"] = pd.to_datetime(df[\"Date\"], format = \"%Y%m\")"
   ]
  },
  {
   "cell_type": "markdown",
   "metadata": {
    "tags": []
   },
   "source": [
    "Great, now \"Date\" column has correct look."
   ]
  },
  {
   "cell_type": "markdown",
   "metadata": {},
   "source": [
    "* **Convert data type of \"Group\" and \"SKU\" column**</br>\n",
    "Next, we want to transform our \"Group\" and \"SKU\" data type from object to category. We'll use <code>.astype()</code> method."
   ]
  },
  {
   "cell_type": "code",
   "execution_count": 11,
   "metadata": {},
   "outputs": [
    {
     "data": {
      "text/plain": [
       "array(['A', 'B', 'C', 'D', 'F', 'H', 'I', 'G', 'J', 'K', 'L', 'M', 'N',\n",
       "       'Q', 'O', 'R', 'S', 'P', 'T', 'U', 'X', 'V', 'W', 'Y', 'Z'],\n",
       "      dtype=object)"
      ]
     },
     "execution_count": 11,
     "metadata": {},
     "output_type": "execute_result"
    }
   ],
   "source": [
    "df[\"Group\"].unique()"
   ]
  },
  {
   "cell_type": "code",
   "execution_count": 12,
   "metadata": {
    "tags": []
   },
   "outputs": [
    {
     "data": {
      "text/plain": [
       "25"
      ]
     },
     "execution_count": 12,
     "metadata": {},
     "output_type": "execute_result"
    }
   ],
   "source": [
    "df[\"Group\"].nunique()"
   ]
  },
  {
   "cell_type": "code",
   "execution_count": 13,
   "metadata": {},
   "outputs": [
    {
     "data": {
      "text/plain": [
       "array(['SKU_01', 'SKU_02', 'SKU_03', 'SKU_04', 'SKU_05', 'SKU_06',\n",
       "       'SKU_07', 'SKU_08', 'SKU_09', 'SKU_10', 'SKU_11', 'SKU_12',\n",
       "       'SKU_13', 'SKU_14', 'SKU_15', 'SKU_16', 'SKU_17', 'SKU_18',\n",
       "       'SKU_19', 'SKU_20', 'SKU_21', 'SKU_22', 'SKU_23', 'SKU_24',\n",
       "       'SKU_25', 'SKU_26', 'SKU_27', 'SKU_28', 'SKU_29', 'SKU_30',\n",
       "       'SKU_31', 'SKU_32', 'SKU_33', 'SKU_34', 'SKU_35', 'SKU_36',\n",
       "       'SKU_37', 'SKU_38', 'SKU_39', 'SKU_40', 'SKU_41', 'SKU_42',\n",
       "       'SKU_43', 'SKU_44', 'SKU_45', 'SKU_46', 'SKU_47', 'SKU_48',\n",
       "       'SKU_49', 'SKU_50', 'SKU_51', 'SKU_52', 'SKU_53', 'SKU_54',\n",
       "       'SKU_55', 'SKU_56', 'SKU_57', 'SKU_58', 'SKU_59', 'SKU_60',\n",
       "       'SKU_61', 'SKU_62', 'SKU_63', 'SKU_64', 'SKU_65', 'SKU_66',\n",
       "       'SKU_67', 'SKU_68', 'SKU_69', 'SKU_70', 'SKU_71', 'SKU_72',\n",
       "       'SKU_73', 'SKU_74', 'SKU_75', 'SKU_76', 'SKU_77', 'SKU_78',\n",
       "       'SKU_79', 'SKU_80', 'SKU_81', 'SKU_82', 'SKU_83', 'SKU_84',\n",
       "       'SKU_85', 'SKU_86', 'SKU_87', 'SKU_88', 'SKU_89', 'SKU_90',\n",
       "       'SKU_91', 'SKU_92', 'SKU_93', 'SKU_94', 'SKU_95', 'SKU_96',\n",
       "       'SKU_97', 'SKU_98', 'SKU_99', 'SKU_100', 'SKU_101', 'SKU_102',\n",
       "       'SKU_103', 'SKU_104', 'SKU_105', 'SKU_106', 'SKU_107', 'SKU_108',\n",
       "       'SKU_109', 'SKU_110', 'SKU_111', 'SKU_112', 'SKU_113', 'SKU_114',\n",
       "       'SKU_115', 'SKU_116', 'SKU_117', 'SKU_118', 'SKU_119', 'SKU_120',\n",
       "       'SKU_121', 'SKU_122', 'SKU_123', 'SKU_124', 'SKU_125', 'SKU_126',\n",
       "       'SKU_127', 'SKU_128', 'SKU_129', 'SKU_130', 'SKU_131', 'SKU_132',\n",
       "       'SKU_133', 'SKU_134', 'SKU_135', 'SKU_136', 'SKU_137', 'SKU_138',\n",
       "       'SKU_139', 'SKU_140', 'SKU_141', 'SKU_142', 'SKU_143', 'SKU_144',\n",
       "       'SKU_145', 'SKU_146', 'SKU_147', 'SKU_148', 'SKU_149', 'SKU_150',\n",
       "       'SKU_151', 'SKU_152', 'SKU_153', 'SKU_154', 'SKU_155', 'SKU_156',\n",
       "       'SKU_157', 'SKU_158', 'SKU_159', 'SKU_160', 'SKU_161', 'SKU_162',\n",
       "       'SKU_163', 'SKU_164', 'SKU_165', 'SKU_166', 'SKU_167', 'SKU_168',\n",
       "       'SKU_169', 'SKU_170', 'SKU_171', 'SKU_172', 'SKU_173', 'SKU_174',\n",
       "       'SKU_175', 'SKU_176', 'SKU_177', 'SKU_178', 'SKU_179', 'SKU_180',\n",
       "       'SKU_181', 'SKU_182', 'SKU_183', 'SKU_184', 'SKU_185', 'SKU_186',\n",
       "       'SKU_187', 'SKU_188'], dtype=object)"
      ]
     },
     "execution_count": 13,
     "metadata": {},
     "output_type": "execute_result"
    }
   ],
   "source": [
    "df[\"SKU\"].unique()"
   ]
  },
  {
   "cell_type": "code",
   "execution_count": 14,
   "metadata": {},
   "outputs": [
    {
     "data": {
      "text/plain": [
       "188"
      ]
     },
     "execution_count": 14,
     "metadata": {},
     "output_type": "execute_result"
    }
   ],
   "source": [
    "df[\"SKU\"].nunique()"
   ]
  },
  {
   "cell_type": "markdown",
   "metadata": {},
   "source": [
    "As we can see, there are 25 values of \"Group\" and 188 values of \"SKU\", so it'll be good idea to turn their data type to categorical."
   ]
  },
  {
   "cell_type": "code",
   "execution_count": 15,
   "metadata": {},
   "outputs": [],
   "source": [
    "df[[\"Group\"]] = df[[\"Group\"]].astype(\"category\")\n",
    "df[[\"SKU\"]] = df[[\"SKU\"]].astype(\"category\")"
   ]
  },
  {
   "cell_type": "code",
   "execution_count": 16,
   "metadata": {},
   "outputs": [
    {
     "data": {
      "text/plain": [
       "Date             datetime64[ns]\n",
       "SKU                    category\n",
       "Group                  category\n",
       "Units Pkg                 int64\n",
       "Avg Price Pkg             int64\n",
       "Sales Pkg                 int64\n",
       "dtype: object"
      ]
     },
     "execution_count": 16,
     "metadata": {},
     "output_type": "execute_result"
    }
   ],
   "source": [
    "df.dtypes"
   ]
  },
  {
   "cell_type": "code",
   "execution_count": 17,
   "metadata": {},
   "outputs": [
    {
     "data": {
      "text/html": [
       "<div>\n",
       "<style scoped>\n",
       "    .dataframe tbody tr th:only-of-type {\n",
       "        vertical-align: middle;\n",
       "    }\n",
       "\n",
       "    .dataframe tbody tr th {\n",
       "        vertical-align: top;\n",
       "    }\n",
       "\n",
       "    .dataframe thead th {\n",
       "        text-align: right;\n",
       "    }\n",
       "</style>\n",
       "<table border=\"1\" class=\"dataframe\">\n",
       "  <thead>\n",
       "    <tr style=\"text-align: right;\">\n",
       "      <th></th>\n",
       "      <th>Date</th>\n",
       "      <th>SKU</th>\n",
       "      <th>Group</th>\n",
       "      <th>Units Pkg</th>\n",
       "      <th>Avg Price Pkg</th>\n",
       "      <th>Sales Pkg</th>\n",
       "    </tr>\n",
       "  </thead>\n",
       "  <tbody>\n",
       "    <tr>\n",
       "      <th>0</th>\n",
       "      <td>2018-01-01</td>\n",
       "      <td>SKU_01</td>\n",
       "      <td>A</td>\n",
       "      <td>13</td>\n",
       "      <td>5</td>\n",
       "      <td>879</td>\n",
       "    </tr>\n",
       "    <tr>\n",
       "      <th>1</th>\n",
       "      <td>2018-01-01</td>\n",
       "      <td>SKU_02</td>\n",
       "      <td>B</td>\n",
       "      <td>7</td>\n",
       "      <td>7</td>\n",
       "      <td>8</td>\n",
       "    </tr>\n",
       "    <tr>\n",
       "      <th>2</th>\n",
       "      <td>2018-01-01</td>\n",
       "      <td>SKU_03</td>\n",
       "      <td>B</td>\n",
       "      <td>7</td>\n",
       "      <td>6</td>\n",
       "      <td>197</td>\n",
       "    </tr>\n",
       "    <tr>\n",
       "      <th>3</th>\n",
       "      <td>2018-01-01</td>\n",
       "      <td>SKU_04</td>\n",
       "      <td>C</td>\n",
       "      <td>4</td>\n",
       "      <td>6</td>\n",
       "      <td>1</td>\n",
       "    </tr>\n",
       "    <tr>\n",
       "      <th>4</th>\n",
       "      <td>2018-01-01</td>\n",
       "      <td>SKU_05</td>\n",
       "      <td>C</td>\n",
       "      <td>6</td>\n",
       "      <td>8</td>\n",
       "      <td>1</td>\n",
       "    </tr>\n",
       "  </tbody>\n",
       "</table>\n",
       "</div>"
      ],
      "text/plain": [
       "        Date     SKU Group  Units Pkg  Avg Price Pkg  Sales Pkg\n",
       "0 2018-01-01  SKU_01     A         13              5        879\n",
       "1 2018-01-01  SKU_02     B          7              7          8\n",
       "2 2018-01-01  SKU_03     B          7              6        197\n",
       "3 2018-01-01  SKU_04     C          4              6          1\n",
       "4 2018-01-01  SKU_05     C          6              8          1"
      ]
     },
     "execution_count": 17,
     "metadata": {},
     "output_type": "execute_result"
    }
   ],
   "source": [
    "df.head()"
   ]
  },
  {
   "cell_type": "markdown",
   "metadata": {},
   "source": [
    "<b>Wonderful!</b>\n",
    "\n",
    "Now we have finally obtained the cleaned dataset with no missing values with all data in its proper format.\n"
   ]
  },
  {
   "cell_type": "markdown",
   "metadata": {},
   "source": [
    "## **Adding new column, grouping and sorting data**"
   ]
  },
  {
   "cell_type": "markdown",
   "metadata": {},
   "source": [
    "* **Adding new column**</br>\n",
    "For our future calculations it will be convenient to have a new column that shows us turnover per month.</br> The formula is: **Turnover per month = Average price per package * Total package sales per month**"
   ]
  },
  {
   "cell_type": "code",
   "execution_count": 18,
   "metadata": {},
   "outputs": [
    {
     "data": {
      "text/html": [
       "<div>\n",
       "<style scoped>\n",
       "    .dataframe tbody tr th:only-of-type {\n",
       "        vertical-align: middle;\n",
       "    }\n",
       "\n",
       "    .dataframe tbody tr th {\n",
       "        vertical-align: top;\n",
       "    }\n",
       "\n",
       "    .dataframe thead th {\n",
       "        text-align: right;\n",
       "    }\n",
       "</style>\n",
       "<table border=\"1\" class=\"dataframe\">\n",
       "  <thead>\n",
       "    <tr style=\"text-align: right;\">\n",
       "      <th></th>\n",
       "      <th>Date</th>\n",
       "      <th>SKU</th>\n",
       "      <th>Group</th>\n",
       "      <th>Units Pkg</th>\n",
       "      <th>Avg Price Pkg</th>\n",
       "      <th>Sales Pkg</th>\n",
       "      <th>Turnover per month</th>\n",
       "    </tr>\n",
       "  </thead>\n",
       "  <tbody>\n",
       "    <tr>\n",
       "      <th>0</th>\n",
       "      <td>2018-01-01</td>\n",
       "      <td>SKU_01</td>\n",
       "      <td>A</td>\n",
       "      <td>13</td>\n",
       "      <td>5</td>\n",
       "      <td>879</td>\n",
       "      <td>4395</td>\n",
       "    </tr>\n",
       "    <tr>\n",
       "      <th>1</th>\n",
       "      <td>2018-01-01</td>\n",
       "      <td>SKU_02</td>\n",
       "      <td>B</td>\n",
       "      <td>7</td>\n",
       "      <td>7</td>\n",
       "      <td>8</td>\n",
       "      <td>56</td>\n",
       "    </tr>\n",
       "    <tr>\n",
       "      <th>2</th>\n",
       "      <td>2018-01-01</td>\n",
       "      <td>SKU_03</td>\n",
       "      <td>B</td>\n",
       "      <td>7</td>\n",
       "      <td>6</td>\n",
       "      <td>197</td>\n",
       "      <td>1182</td>\n",
       "    </tr>\n",
       "    <tr>\n",
       "      <th>3</th>\n",
       "      <td>2018-01-01</td>\n",
       "      <td>SKU_04</td>\n",
       "      <td>C</td>\n",
       "      <td>4</td>\n",
       "      <td>6</td>\n",
       "      <td>1</td>\n",
       "      <td>6</td>\n",
       "    </tr>\n",
       "    <tr>\n",
       "      <th>4</th>\n",
       "      <td>2018-01-01</td>\n",
       "      <td>SKU_05</td>\n",
       "      <td>C</td>\n",
       "      <td>6</td>\n",
       "      <td>8</td>\n",
       "      <td>1</td>\n",
       "      <td>8</td>\n",
       "    </tr>\n",
       "  </tbody>\n",
       "</table>\n",
       "</div>"
      ],
      "text/plain": [
       "        Date     SKU Group  Units Pkg  Avg Price Pkg  Sales Pkg  \\\n",
       "0 2018-01-01  SKU_01     A         13              5        879   \n",
       "1 2018-01-01  SKU_02     B          7              7          8   \n",
       "2 2018-01-01  SKU_03     B          7              6        197   \n",
       "3 2018-01-01  SKU_04     C          4              6          1   \n",
       "4 2018-01-01  SKU_05     C          6              8          1   \n",
       "\n",
       "   Turnover per month  \n",
       "0                4395  \n",
       "1                  56  \n",
       "2                1182  \n",
       "3                   6  \n",
       "4                   8  "
      ]
     },
     "execution_count": 18,
     "metadata": {},
     "output_type": "execute_result"
    }
   ],
   "source": [
    "df[\"Turnover per month\"] = df[\"Avg Price Pkg\"] * df[\"Sales Pkg\"]\n",
    "df.head(5)"
   ]
  },
  {
   "cell_type": "markdown",
   "metadata": {},
   "source": [
    "* **Grouping data**</br>\n",
    "The \"groupby\" method groups data by different categories. The data is grouped based on one or several variables, and analysis is performed on the individual groups.</br>\n",
    "The reason for grouping data is to see, for example, total turnover by year or average turnover by month etc."
   ]
  },
  {
   "cell_type": "markdown",
   "metadata": {},
   "source": [
    "1. Let's group our turnover values by year and month:"
   ]
  },
  {
   "cell_type": "markdown",
   "metadata": {},
   "source": [
    "We group data by year and month columns, and then we show summary value of grouped turnover. "
   ]
  },
  {
   "cell_type": "code",
   "execution_count": 19,
   "metadata": {},
   "outputs": [
    {
     "data": {
      "text/plain": [
       "Date  Date\n",
       "2018  1       139199\n",
       "      2       126220\n",
       "      3       127198\n",
       "      4       136222\n",
       "      5       132770\n",
       "      6       146458\n",
       "      7       144162\n",
       "      8       133359\n",
       "      9       160207\n",
       "      10      143431\n",
       "      11      147089\n",
       "      12      124796\n",
       "2019  1       148652\n",
       "      2       141280\n",
       "      3       155324\n",
       "      4       177891\n",
       "      5       162456\n",
       "      6       157328\n",
       "      7       183620\n",
       "      8       171221\n",
       "      9       169857\n",
       "      10      177715\n",
       "      11      163791\n",
       "      12      106728\n",
       "2020  1       230779\n",
       "      2       183065\n",
       "      3       217457\n",
       "      4       179680\n",
       "      5       180983\n",
       "      6       197628\n",
       "      7       211966\n",
       "      8       244625\n",
       "      9       185770\n",
       "      10      212419\n",
       "      11      207530\n",
       "      12      145190\n",
       "2021  1       257784\n",
       "      2       224572\n",
       "      3       281821\n",
       "      4       186257\n",
       "      5       248401\n",
       "      6       273942\n",
       "      7       282488\n",
       "      8       230043\n",
       "      9       228664\n",
       "      10      250806\n",
       "      11      253556\n",
       "      12      219630\n",
       "2022  1       281565\n",
       "      2       243755\n",
       "      3       306836\n",
       "      4       230128\n",
       "      5       270722\n",
       "      6       298270\n",
       "      7       295284\n",
       "      8       312516\n",
       "      9       343136\n",
       "      10      254043\n",
       "      11      296210\n",
       "      12      257688\n",
       "Name: Turnover per month, dtype: int64"
      ]
     },
     "execution_count": 19,
     "metadata": {},
     "output_type": "execute_result"
    }
   ],
   "source": [
    "result1 = df.groupby([df['Date'].dt.year, df['Date'].dt.month])['Turnover per month'].sum()\n",
    "result1"
   ]
  },
  {
   "cell_type": "markdown",
   "metadata": {},
   "source": [
    "Let's make this table looks more convenient to see. For this we'll use <code>pivot_table()</code> method."
   ]
  },
  {
   "cell_type": "code",
   "execution_count": 23,
   "metadata": {},
   "outputs": [
    {
     "data": {
      "text/html": [
       "<div>\n",
       "<style scoped>\n",
       "    .dataframe tbody tr th:only-of-type {\n",
       "        vertical-align: middle;\n",
       "    }\n",
       "\n",
       "    .dataframe tbody tr th {\n",
       "        vertical-align: top;\n",
       "    }\n",
       "\n",
       "    .dataframe thead th {\n",
       "        text-align: right;\n",
       "    }\n",
       "</style>\n",
       "<table border=\"1\" class=\"dataframe\">\n",
       "  <thead>\n",
       "    <tr style=\"text-align: right;\">\n",
       "      <th>Turnover</th>\n",
       "      <th>2018</th>\n",
       "      <th>2019</th>\n",
       "      <th>2020</th>\n",
       "      <th>2021</th>\n",
       "      <th>2022</th>\n",
       "    </tr>\n",
       "    <tr>\n",
       "      <th>Month</th>\n",
       "      <th></th>\n",
       "      <th></th>\n",
       "      <th></th>\n",
       "      <th></th>\n",
       "      <th></th>\n",
       "    </tr>\n",
       "  </thead>\n",
       "  <tbody>\n",
       "    <tr>\n",
       "      <th>1</th>\n",
       "      <td>139199</td>\n",
       "      <td>148652</td>\n",
       "      <td>230779</td>\n",
       "      <td>257784</td>\n",
       "      <td>281565</td>\n",
       "    </tr>\n",
       "    <tr>\n",
       "      <th>2</th>\n",
       "      <td>126220</td>\n",
       "      <td>141280</td>\n",
       "      <td>183065</td>\n",
       "      <td>224572</td>\n",
       "      <td>243755</td>\n",
       "    </tr>\n",
       "    <tr>\n",
       "      <th>3</th>\n",
       "      <td>127198</td>\n",
       "      <td>155324</td>\n",
       "      <td>217457</td>\n",
       "      <td>281821</td>\n",
       "      <td>306836</td>\n",
       "    </tr>\n",
       "    <tr>\n",
       "      <th>4</th>\n",
       "      <td>136222</td>\n",
       "      <td>177891</td>\n",
       "      <td>179680</td>\n",
       "      <td>186257</td>\n",
       "      <td>230128</td>\n",
       "    </tr>\n",
       "    <tr>\n",
       "      <th>5</th>\n",
       "      <td>132770</td>\n",
       "      <td>162456</td>\n",
       "      <td>180983</td>\n",
       "      <td>248401</td>\n",
       "      <td>270722</td>\n",
       "    </tr>\n",
       "    <tr>\n",
       "      <th>6</th>\n",
       "      <td>146458</td>\n",
       "      <td>157328</td>\n",
       "      <td>197628</td>\n",
       "      <td>273942</td>\n",
       "      <td>298270</td>\n",
       "    </tr>\n",
       "    <tr>\n",
       "      <th>7</th>\n",
       "      <td>144162</td>\n",
       "      <td>183620</td>\n",
       "      <td>211966</td>\n",
       "      <td>282488</td>\n",
       "      <td>295284</td>\n",
       "    </tr>\n",
       "    <tr>\n",
       "      <th>8</th>\n",
       "      <td>133359</td>\n",
       "      <td>171221</td>\n",
       "      <td>244625</td>\n",
       "      <td>230043</td>\n",
       "      <td>312516</td>\n",
       "    </tr>\n",
       "    <tr>\n",
       "      <th>9</th>\n",
       "      <td>160207</td>\n",
       "      <td>169857</td>\n",
       "      <td>185770</td>\n",
       "      <td>228664</td>\n",
       "      <td>343136</td>\n",
       "    </tr>\n",
       "    <tr>\n",
       "      <th>10</th>\n",
       "      <td>143431</td>\n",
       "      <td>177715</td>\n",
       "      <td>212419</td>\n",
       "      <td>250806</td>\n",
       "      <td>254043</td>\n",
       "    </tr>\n",
       "    <tr>\n",
       "      <th>11</th>\n",
       "      <td>147089</td>\n",
       "      <td>163791</td>\n",
       "      <td>207530</td>\n",
       "      <td>253556</td>\n",
       "      <td>296210</td>\n",
       "    </tr>\n",
       "    <tr>\n",
       "      <th>12</th>\n",
       "      <td>124796</td>\n",
       "      <td>106728</td>\n",
       "      <td>145190</td>\n",
       "      <td>219630</td>\n",
       "      <td>257688</td>\n",
       "    </tr>\n",
       "  </tbody>\n",
       "</table>\n",
       "</div>"
      ],
      "text/plain": [
       "Turnover    2018    2019    2020    2021    2022\n",
       "Month                                           \n",
       "1         139199  148652  230779  257784  281565\n",
       "2         126220  141280  183065  224572  243755\n",
       "3         127198  155324  217457  281821  306836\n",
       "4         136222  177891  179680  186257  230128\n",
       "5         132770  162456  180983  248401  270722\n",
       "6         146458  157328  197628  273942  298270\n",
       "7         144162  183620  211966  282488  295284\n",
       "8         133359  171221  244625  230043  312516\n",
       "9         160207  169857  185770  228664  343136\n",
       "10        143431  177715  212419  250806  254043\n",
       "11        147089  163791  207530  253556  296210\n",
       "12        124796  106728  145190  219630  257688"
      ]
     },
     "execution_count": 23,
     "metadata": {},
     "output_type": "execute_result"
    }
   ],
   "source": [
    "pivot1 = pd.pivot_table(df, values=\"Turnover per month\", index=df['Date'].dt.month, columns=df['Date'].dt.year, aggfunc=\"sum\")\n",
    "pivot1.index.names = [\"Month\"]\n",
    "pivot1.columns.names = [\"Turnover\"]\n",
    "pivot1"
   ]
  },
  {
   "cell_type": "markdown",
   "metadata": {},
   "source": [
    "Let's use a heat map to visualize the relationship between Turnover vs Date.\n"
   ]
  },
  {
   "cell_type": "code",
   "execution_count": 21,
   "metadata": {},
   "outputs": [
    {
     "data": {
      "image/png": "[encoded data removed]",
      "text/plain": [
       "<Figure size 640x480 with 2 Axes>"
      ]
     },
     "metadata": {},
     "output_type": "display_data"
    }
   ],
   "source": [
    "%matplotlib inline\n",
    "plt.pcolor(pivot1, cmap='RdBu')\n",
    "plt.colorbar()\n",
    "plt.show()"
   ]
  },
  {
   "cell_type": "markdown",
   "metadata": {},
   "source": [
    "The heatmap plots the target variable (turnover) proportional to colour with respect to the Month and Year on the vertical and horizontal axis, respectively. This allows us to visualize how the turnover is related to Month and Year.</br>\n",
    "For example, we can see that in December 2019 (2019-12) there was low turnover (dark red color), and we can check it using our <code>pivot1</code> table."
   ]
  },
  {
   "cell_type": "markdown",
   "metadata": {},
   "source": [
    "But the default labels convey no useful information to us. Let's change that:"
   ]
  },
  {
   "cell_type": "code",
   "execution_count": 22,
   "metadata": {},
   "outputs": [
    {
     "data": {
      "image/png": "[encoded data removed]",
      "text/plain": [
       "<Figure size 640x480 with 2 Axes>"
      ]
     },
     "metadata": {},
     "output_type": "display_data"
    }
   ],
   "source": [
    "fig, ax = plt.subplots()\n",
    "im = ax.pcolor(pivot1, cmap='RdBu')\n",
    "\n",
    "# label names\n",
    "row_names = pivot1.columns\n",
    "col_names = pivot1.index\n",
    "\n",
    "# move ticks and labels to the center\n",
    "ax.set_xticks(np.arange(pivot1.shape[1]) + 0.5, minor=False)\n",
    "ax.set_yticks(np.arange(pivot1.shape[0]) + 0.5, minor=False)\n",
    "\n",
    "# set names\n",
    "ax.set_xticklabels(row_names, minor=False)\n",
    "ax.set_yticklabels(col_names, minor=False)\n",
    "\n",
    "fig.colorbar(im)\n",
    "plt.show()"
   ]
  },
  {
   "cell_type": "markdown",
   "metadata": {},
   "source": [
    "Visualization is very important in data science, and Python visualization packages provide great freedom. We will go more in-depth in a separate Python visualizations course."
   ]
  },
  {
   "cell_type": "markdown",
   "metadata": {},
   "source": [
    "2. Let's group our turnover values by year and name of group:"
   ]
  },
  {
   "cell_type": "code",
   "execution_count": 23,
   "metadata": {},
   "outputs": [
    {
     "data": {
      "text/plain": [
       "Date  Group\n",
       "2018  A         51706\n",
       "      B         46490\n",
       "      C         11560\n",
       "      D        748378\n",
       "      F        145409\n",
       "                ...  \n",
       "2022  V        328990\n",
       "      W        341970\n",
       "      X          1430\n",
       "      Y         15810\n",
       "      Z             0\n",
       "Name: Turnover per month, Length: 125, dtype: int64"
      ]
     },
     "execution_count": 23,
     "metadata": {},
     "output_type": "execute_result"
    }
   ],
   "source": [
    "result2 = df.groupby([df[\"Date\"].dt.year, \"Group\"])\n",
    "result2[\"Turnover per month\"].sum()"
   ]
  },
  {
   "cell_type": "markdown",
   "metadata": {},
   "source": [
    "Using <code>pivot_table</code>:"
   ]
  },
  {
   "cell_type": "code",
   "execution_count": 24,
   "metadata": {},
   "outputs": [
    {
     "data": {
      "text/html": [
       "<div>\n",
       "<style scoped>\n",
       "    .dataframe tbody tr th:only-of-type {\n",
       "        vertical-align: middle;\n",
       "    }\n",
       "\n",
       "    .dataframe tbody tr th {\n",
       "        vertical-align: top;\n",
       "    }\n",
       "\n",
       "    .dataframe thead th {\n",
       "        text-align: right;\n",
       "    }\n",
       "</style>\n",
       "<table border=\"1\" class=\"dataframe\">\n",
       "  <thead>\n",
       "    <tr style=\"text-align: right;\">\n",
       "      <th>Turnover per year</th>\n",
       "      <th>2018</th>\n",
       "      <th>2019</th>\n",
       "      <th>2020</th>\n",
       "      <th>2021</th>\n",
       "      <th>2022</th>\n",
       "    </tr>\n",
       "    <tr>\n",
       "      <th>Group of related products</th>\n",
       "      <th></th>\n",
       "      <th></th>\n",
       "      <th></th>\n",
       "      <th></th>\n",
       "      <th></th>\n",
       "    </tr>\n",
       "  </thead>\n",
       "  <tbody>\n",
       "    <tr>\n",
       "      <th>A</th>\n",
       "      <td>51706</td>\n",
       "      <td>59934</td>\n",
       "      <td>65328</td>\n",
       "      <td>66318</td>\n",
       "      <td>61602</td>\n",
       "    </tr>\n",
       "    <tr>\n",
       "      <th>B</th>\n",
       "      <td>46490</td>\n",
       "      <td>162256</td>\n",
       "      <td>197813</td>\n",
       "      <td>220173</td>\n",
       "      <td>239552</td>\n",
       "    </tr>\n",
       "    <tr>\n",
       "      <th>C</th>\n",
       "      <td>11560</td>\n",
       "      <td>6376</td>\n",
       "      <td>3961</td>\n",
       "      <td>222</td>\n",
       "      <td>1263</td>\n",
       "    </tr>\n",
       "    <tr>\n",
       "      <th>D</th>\n",
       "      <td>748378</td>\n",
       "      <td>705342</td>\n",
       "      <td>709744</td>\n",
       "      <td>761647</td>\n",
       "      <td>727136</td>\n",
       "    </tr>\n",
       "    <tr>\n",
       "      <th>F</th>\n",
       "      <td>145409</td>\n",
       "      <td>174244</td>\n",
       "      <td>215381</td>\n",
       "      <td>243793</td>\n",
       "      <td>27636</td>\n",
       "    </tr>\n",
       "    <tr>\n",
       "      <th>G</th>\n",
       "      <td>23180</td>\n",
       "      <td>26463</td>\n",
       "      <td>1811</td>\n",
       "      <td>0</td>\n",
       "      <td>0</td>\n",
       "    </tr>\n",
       "    <tr>\n",
       "      <th>H</th>\n",
       "      <td>9408</td>\n",
       "      <td>11656</td>\n",
       "      <td>11608</td>\n",
       "      <td>16264</td>\n",
       "      <td>24992</td>\n",
       "    </tr>\n",
       "    <tr>\n",
       "      <th>I</th>\n",
       "      <td>54221</td>\n",
       "      <td>60317</td>\n",
       "      <td>69871</td>\n",
       "      <td>100457</td>\n",
       "      <td>132915</td>\n",
       "    </tr>\n",
       "    <tr>\n",
       "      <th>J</th>\n",
       "      <td>331298</td>\n",
       "      <td>315280</td>\n",
       "      <td>327052</td>\n",
       "      <td>259842</td>\n",
       "      <td>0</td>\n",
       "    </tr>\n",
       "    <tr>\n",
       "      <th>K</th>\n",
       "      <td>144499</td>\n",
       "      <td>285313</td>\n",
       "      <td>484384</td>\n",
       "      <td>685400</td>\n",
       "      <td>825200</td>\n",
       "    </tr>\n",
       "    <tr>\n",
       "      <th>L</th>\n",
       "      <td>11223</td>\n",
       "      <td>10490</td>\n",
       "      <td>12205</td>\n",
       "      <td>10733</td>\n",
       "      <td>0</td>\n",
       "    </tr>\n",
       "    <tr>\n",
       "      <th>M</th>\n",
       "      <td>9025</td>\n",
       "      <td>9118</td>\n",
       "      <td>12875</td>\n",
       "      <td>17141</td>\n",
       "      <td>17523</td>\n",
       "    </tr>\n",
       "    <tr>\n",
       "      <th>N</th>\n",
       "      <td>74714</td>\n",
       "      <td>89074</td>\n",
       "      <td>94608</td>\n",
       "      <td>64692</td>\n",
       "      <td>46606</td>\n",
       "    </tr>\n",
       "    <tr>\n",
       "      <th>O</th>\n",
       "      <td>0</td>\n",
       "      <td>0</td>\n",
       "      <td>77112</td>\n",
       "      <td>204689</td>\n",
       "      <td>348950</td>\n",
       "    </tr>\n",
       "    <tr>\n",
       "      <th>P</th>\n",
       "      <td>0</td>\n",
       "      <td>0</td>\n",
       "      <td>37136</td>\n",
       "      <td>62523</td>\n",
       "      <td>186618</td>\n",
       "    </tr>\n",
       "    <tr>\n",
       "      <th>Q</th>\n",
       "      <td>0</td>\n",
       "      <td>0</td>\n",
       "      <td>20273</td>\n",
       "      <td>17732</td>\n",
       "      <td>16522</td>\n",
       "    </tr>\n",
       "    <tr>\n",
       "      <th>R</th>\n",
       "      <td>0</td>\n",
       "      <td>0</td>\n",
       "      <td>30800</td>\n",
       "      <td>28530</td>\n",
       "      <td>26920</td>\n",
       "    </tr>\n",
       "    <tr>\n",
       "      <th>S</th>\n",
       "      <td>0</td>\n",
       "      <td>0</td>\n",
       "      <td>25130</td>\n",
       "      <td>17240</td>\n",
       "      <td>15830</td>\n",
       "    </tr>\n",
       "    <tr>\n",
       "      <th>T</th>\n",
       "      <td>0</td>\n",
       "      <td>0</td>\n",
       "      <td>0</td>\n",
       "      <td>708</td>\n",
       "      <td>132</td>\n",
       "    </tr>\n",
       "    <tr>\n",
       "      <th>U</th>\n",
       "      <td>0</td>\n",
       "      <td>0</td>\n",
       "      <td>0</td>\n",
       "      <td>1950</td>\n",
       "      <td>2556</td>\n",
       "    </tr>\n",
       "    <tr>\n",
       "      <th>V</th>\n",
       "      <td>0</td>\n",
       "      <td>0</td>\n",
       "      <td>0</td>\n",
       "      <td>76483</td>\n",
       "      <td>328990</td>\n",
       "    </tr>\n",
       "    <tr>\n",
       "      <th>W</th>\n",
       "      <td>0</td>\n",
       "      <td>0</td>\n",
       "      <td>0</td>\n",
       "      <td>76836</td>\n",
       "      <td>341970</td>\n",
       "    </tr>\n",
       "    <tr>\n",
       "      <th>X</th>\n",
       "      <td>0</td>\n",
       "      <td>0</td>\n",
       "      <td>0</td>\n",
       "      <td>442</td>\n",
       "      <td>1430</td>\n",
       "    </tr>\n",
       "    <tr>\n",
       "      <th>Y</th>\n",
       "      <td>0</td>\n",
       "      <td>0</td>\n",
       "      <td>0</td>\n",
       "      <td>4149</td>\n",
       "      <td>15810</td>\n",
       "    </tr>\n",
       "    <tr>\n",
       "      <th>Z</th>\n",
       "      <td>0</td>\n",
       "      <td>0</td>\n",
       "      <td>0</td>\n",
       "      <td>0</td>\n",
       "      <td>0</td>\n",
       "    </tr>\n",
       "  </tbody>\n",
       "</table>\n",
       "</div>"
      ],
      "text/plain": [
       "Turnover per year            2018    2019    2020    2021    2022\n",
       "Group of related products                                        \n",
       "A                           51706   59934   65328   66318   61602\n",
       "B                           46490  162256  197813  220173  239552\n",
       "C                           11560    6376    3961     222    1263\n",
       "D                          748378  705342  709744  761647  727136\n",
       "F                          145409  174244  215381  243793   27636\n",
       "G                           23180   26463    1811       0       0\n",
       "H                            9408   11656   11608   16264   24992\n",
       "I                           54221   60317   69871  100457  132915\n",
       "J                          331298  315280  327052  259842       0\n",
       "K                          144499  285313  484384  685400  825200\n",
       "L                           11223   10490   12205   10733       0\n",
       "M                            9025    9118   12875   17141   17523\n",
       "N                           74714   89074   94608   64692   46606\n",
       "O                               0       0   77112  204689  348950\n",
       "P                               0       0   37136   62523  186618\n",
       "Q                               0       0   20273   17732   16522\n",
       "R                               0       0   30800   28530   26920\n",
       "S                               0       0   25130   17240   15830\n",
       "T                               0       0       0     708     132\n",
       "U                               0       0       0    1950    2556\n",
       "V                               0       0       0   76483  328990\n",
       "W                               0       0       0   76836  341970\n",
       "X                               0       0       0     442    1430\n",
       "Y                               0       0       0    4149   15810\n",
       "Z                               0       0       0       0       0"
      ]
     },
     "execution_count": 24,
     "metadata": {},
     "output_type": "execute_result"
    }
   ],
   "source": [
    "pivot2 = pd.pivot_table(df, values=\"Turnover per month\", index=\"Group\", columns=df['Date'].dt.year, aggfunc=\"sum\")\n",
    "pivot2.index.names = [\"Group of related products\"]\n",
    "pivot2.columns.names = [\"Turnover per year\"]\n",
    "pivot2"
   ]
  },
  {
   "cell_type": "markdown",
   "metadata": {},
   "source": [
    "3. Let's group our total package sales per month values (Sales Pkg) by year and name of group:"
   ]
  },
  {
   "cell_type": "code",
   "execution_count": 25,
   "metadata": {},
   "outputs": [
    {
     "data": {
      "text/plain": [
       "Date  Group\n",
       "2018  A        10205\n",
       "      B         7461\n",
       "      C         1456\n",
       "      D        92388\n",
       "      F        11878\n",
       "               ...  \n",
       "2022  V        24170\n",
       "      W        27121\n",
       "      X           55\n",
       "      Y         1611\n",
       "      Z            0\n",
       "Name: Sales Pkg, Length: 125, dtype: int64"
      ]
     },
     "execution_count": 25,
     "metadata": {},
     "output_type": "execute_result"
    }
   ],
   "source": [
    "result3 = df.groupby([df[\"Date\"].dt.year, \"Group\"])\n",
    "result3[\"Sales Pkg\"].sum()"
   ]
  },
  {
   "cell_type": "markdown",
   "metadata": {},
   "source": [
    "<div class=\"alert alert-danger alertdanger\" style=\"margin-top: 20px\">\n",
    "  <b style=\"font-size: 2em; font-weight: bold;\">Question #1:</b>\n",
    "\n",
    "<b>Group total package sales per month values (Sales Pkg) by year and name of group using <code>pivot_table</code> function</b>\n",
    "\n",
    "</div>\n"
   ]
  },
  {
   "cell_type": "code",
   "execution_count": 26,
   "metadata": {},
   "outputs": [],
   "source": [
    "# Write your code below and press Shift+Enter to execute \n"
   ]
  },
  {
   "cell_type": "markdown",
   "metadata": {},
   "source": [
    "<details><summary>Click here for the solution</summary>\n",
    "\n",
    "```python\n",
    "pivot3 = pd.pivot_table(df, values=\"Sales Pkg\", index=\"Group\", columns=df[\"Date\"].dt.year, aggfunc=\"sum\")\n",
    "pivot3.index.names = [\"Group of related products\"]\n",
    "pivot3.columns.names = [\"Total package sales per year\"]\n",
    "pivot3\n",
    "\n",
    "\n",
    "```\n",
    "\n",
    "</details>\n"
   ]
  },
  {
   "cell_type": "markdown",
   "metadata": {},
   "source": [
    "<div class=\"alert alert-danger alertdanger\" style=\"margin-top: 20px\">\n",
    "  <b style=\"font-size: 2em; font-weight: bold;\">Question #2:</b>\n",
    "    \n",
    "<b>Group average turnover values by year and SKU using <code>groupby()</code> function</b>\n",
    "\n",
    "</div>\n"
   ]
  },
  {
   "cell_type": "code",
   "execution_count": 27,
   "metadata": {},
   "outputs": [],
   "source": [
    "# Write your code below and press Shift+Enter to execute \n"
   ]
  },
  {
   "cell_type": "markdown",
   "metadata": {},
   "source": [
    "<details><summary>Click here for the solution</summary>\n",
    "\n",
    "```python\n",
    "result4 = df.groupby([df[\"Date\"].dt.year, \"SKU\"])\n",
    "result4[\"Turnover per month\"].mean()\n",
    "\n",
    "```\n",
    "\n",
    "</details>\n"
   ]
  },
  {
   "cell_type": "markdown",
   "metadata": {},
   "source": [
    "* **Sorting data**</br>\n",
    "   Firstly, we'll sort by groups (A, B, C...)</br>\n",
    "   Secondly, by years (from 2022 to 2018)"
   ]
  },
  {
   "cell_type": "code",
   "execution_count": 28,
   "metadata": {},
   "outputs": [
    {
     "data": {
      "text/html": [
       "<div>\n",
       "<style scoped>\n",
       "    .dataframe tbody tr th:only-of-type {\n",
       "        vertical-align: middle;\n",
       "    }\n",
       "\n",
       "    .dataframe tbody tr th {\n",
       "        vertical-align: top;\n",
       "    }\n",
       "\n",
       "    .dataframe thead th {\n",
       "        text-align: right;\n",
       "    }\n",
       "</style>\n",
       "<table border=\"1\" class=\"dataframe\">\n",
       "  <thead>\n",
       "    <tr style=\"text-align: right;\">\n",
       "      <th></th>\n",
       "      <th>Date</th>\n",
       "      <th>SKU</th>\n",
       "      <th>Group</th>\n",
       "      <th>Units Pkg</th>\n",
       "      <th>Avg Price Pkg</th>\n",
       "      <th>Sales Pkg</th>\n",
       "      <th>Turnover per month</th>\n",
       "    </tr>\n",
       "  </thead>\n",
       "  <tbody>\n",
       "    <tr>\n",
       "      <th>4072</th>\n",
       "      <td>2022-12-01</td>\n",
       "      <td>SKU_103</td>\n",
       "      <td>A</td>\n",
       "      <td>13</td>\n",
       "      <td>6</td>\n",
       "      <td>257</td>\n",
       "      <td>1542</td>\n",
       "    </tr>\n",
       "    <tr>\n",
       "      <th>4073</th>\n",
       "      <td>2022-12-01</td>\n",
       "      <td>SKU_91</td>\n",
       "      <td>A</td>\n",
       "      <td>13</td>\n",
       "      <td>6</td>\n",
       "      <td>422</td>\n",
       "      <td>2532</td>\n",
       "    </tr>\n",
       "    <tr>\n",
       "      <th>3994</th>\n",
       "      <td>2022-11-01</td>\n",
       "      <td>SKU_103</td>\n",
       "      <td>A</td>\n",
       "      <td>13</td>\n",
       "      <td>6</td>\n",
       "      <td>307</td>\n",
       "      <td>1842</td>\n",
       "    </tr>\n",
       "    <tr>\n",
       "      <th>3995</th>\n",
       "      <td>2022-11-01</td>\n",
       "      <td>SKU_91</td>\n",
       "      <td>A</td>\n",
       "      <td>13</td>\n",
       "      <td>6</td>\n",
       "      <td>370</td>\n",
       "      <td>2220</td>\n",
       "    </tr>\n",
       "    <tr>\n",
       "      <th>3913</th>\n",
       "      <td>2022-10-01</td>\n",
       "      <td>SKU_103</td>\n",
       "      <td>A</td>\n",
       "      <td>13</td>\n",
       "      <td>6</td>\n",
       "      <td>249</td>\n",
       "      <td>1494</td>\n",
       "    </tr>\n",
       "  </tbody>\n",
       "</table>\n",
       "</div>"
      ],
      "text/plain": [
       "           Date      SKU Group  Units Pkg  Avg Price Pkg  Sales Pkg  \\\n",
       "4072 2022-12-01  SKU_103     A         13              6        257   \n",
       "4073 2022-12-01   SKU_91     A         13              6        422   \n",
       "3994 2022-11-01  SKU_103     A         13              6        307   \n",
       "3995 2022-11-01   SKU_91     A         13              6        370   \n",
       "3913 2022-10-01  SKU_103     A         13              6        249   \n",
       "\n",
       "      Turnover per month  \n",
       "4072                1542  \n",
       "4073                2532  \n",
       "3994                1842  \n",
       "3995                2220  \n",
       "3913                1494  "
      ]
     },
     "execution_count": 28,
     "metadata": {},
     "output_type": "execute_result"
    }
   ],
   "source": [
    "df1 = df.sort_values(by=[\"Group\", \"Date\"], ascending=[True, False])\n",
    "df1.head()"
   ]
  },
  {
   "cell_type": "markdown",
   "metadata": {},
   "source": [
    "We typed <code>ascending=[True, False]</code> because we needed to sort \"Group\" column from A to Z (ascendingly) and \"Date\" column from 2022 to 2018 (descendingly)."
   ]
  },
  {
   "cell_type": "markdown",
   "metadata": {},
   "source": [
    "<h2 id=\"data_standardization\"><b>Data Standardization</b></h2>\n",
    "<p>\n",
    "Data is usually collected from different agencies in different formats.\n",
    "(Data standardization is also a term for a particular type of data normalization where we subtract the mean and divide by the standard deviation.)\n",
    "</p>\n",
    "\n",
    "<b>What is standardization?</b>\n",
    "\n",
    "<p>Standardization is the process of transforming data into a common format, allowing the researcher to make the meaningful comparison.\n",
    "</p>\n",
    "\n",
    "<b>Example</b>\n",
    "\n",
    "Let's focus on the \"Date\" column. We have changed data type of this column so far, but as you might see, there were also days of the month (\"2018-01-01\"). We don't have information about days, only months and years, so why it may seem quite confusing. So now let's remove the day value from the \"Date\" column."
   ]
  },
  {
   "cell_type": "markdown",
   "metadata": {},
   "source": [
    "**Attention!** </br>If you run this code, you'll get Date column in a proper way like \"2018-01\" but Date type will become string type, so you won't be able to use functions <code>.dt.month</code> for example. "
   ]
  },
  {
   "cell_type": "code",
   "execution_count": 29,
   "metadata": {},
   "outputs": [],
   "source": [
    "# df[\"Date\"] = df[\"Date\"].dt.strftime('%Y-%m')\n",
    "# df.head()"
   ]
  },
  {
   "cell_type": "markdown",
   "metadata": {},
   "source": [
    "<h2 id=\"data_normalization\"><b>Data Normalization</b></h2>\n",
    "\n",
    "<b>What's normalization?</b>\n",
    "\n",
    "<p>Normalization is the process of transforming values of several variables into a similar range. Typical normalizations include scaling the variable so the variable average is 0, scaling the variable so the variance is 1, or scaling the variable so the variable values range from 0 to 1.<br>\n",
    "The main goal of normalization is to bring all variables into the same range, so that no single variable dominates the analysis.\n",
    "</p>\n",
    "\n",
    "<b>Why normalization?</b>\n",
    "\n",
    "Imagine a huge spread of data, for instance, price may vary from very little to very high and if we want to compare them, it would be difficult to do, especially when you'll want to visualize them. So normalizing the data can help bring them to a common scale, making it easier to compare and analyze the data.\n",
    "\n",
    "<b>Example</b>\n",
    "\n",
    "<p>To demonstrate normalization, let's say we want to scale the columns \"Units Pkg\", \"Avg Price Pkg\", \"Sales Pkg\" and \"Turnover per month\".</p>\n",
    "<p><b>Target:</b> would like to normalize those variables so their value ranges from 0 to 1.</p>\n",
    "<p><b>Approach:</b> replace original value by (original value)/(maximum value)</p>\n"
   ]
  },
  {
   "cell_type": "code",
   "execution_count": 30,
   "metadata": {},
   "outputs": [
    {
     "data": {
      "text/html": [
       "<div>\n",
       "<style scoped>\n",
       "    .dataframe tbody tr th:only-of-type {\n",
       "        vertical-align: middle;\n",
       "    }\n",
       "\n",
       "    .dataframe tbody tr th {\n",
       "        vertical-align: top;\n",
       "    }\n",
       "\n",
       "    .dataframe thead th {\n",
       "        text-align: right;\n",
       "    }\n",
       "</style>\n",
       "<table border=\"1\" class=\"dataframe\">\n",
       "  <thead>\n",
       "    <tr style=\"text-align: right;\">\n",
       "      <th></th>\n",
       "      <th>Units Pkg Normalized</th>\n",
       "      <th>Avg Price Pkg Normalized</th>\n",
       "    </tr>\n",
       "  </thead>\n",
       "  <tbody>\n",
       "    <tr>\n",
       "      <th>0</th>\n",
       "      <td>0.13</td>\n",
       "      <td>0.19</td>\n",
       "    </tr>\n",
       "    <tr>\n",
       "      <th>1</th>\n",
       "      <td>0.07</td>\n",
       "      <td>0.27</td>\n",
       "    </tr>\n",
       "    <tr>\n",
       "      <th>2</th>\n",
       "      <td>0.07</td>\n",
       "      <td>0.23</td>\n",
       "    </tr>\n",
       "    <tr>\n",
       "      <th>3</th>\n",
       "      <td>0.04</td>\n",
       "      <td>0.23</td>\n",
       "    </tr>\n",
       "    <tr>\n",
       "      <th>4</th>\n",
       "      <td>0.06</td>\n",
       "      <td>0.31</td>\n",
       "    </tr>\n",
       "  </tbody>\n",
       "</table>\n",
       "</div>"
      ],
      "text/plain": [
       "   Units Pkg Normalized  Avg Price Pkg Normalized\n",
       "0                  0.13                      0.19\n",
       "1                  0.07                      0.27\n",
       "2                  0.07                      0.23\n",
       "3                  0.04                      0.23\n",
       "4                  0.06                      0.31"
      ]
     },
     "execution_count": 30,
     "metadata": {},
     "output_type": "execute_result"
    }
   ],
   "source": [
    "# replace (original value) by (original value)/(maximum value) in copy df\n",
    "df1 = df.copy()\n",
    "df1['Units Pkg Normalized'] = df['Units Pkg'] / df['Units Pkg'].max()\n",
    "df1['Avg Price Pkg Normalized'] = df['Avg Price Pkg'] / df['Avg Price Pkg'].max()\n",
    "\n",
    "df1[[\"Units Pkg Normalized\", \"Avg Price Pkg Normalized\"]].head()"
   ]
  },
  {
   "cell_type": "code",
   "execution_count": 31,
   "metadata": {},
   "outputs": [
    {
     "data": {
      "text/html": [
       "<div>\n",
       "<style scoped>\n",
       "    .dataframe tbody tr th:only-of-type {\n",
       "        vertical-align: middle;\n",
       "    }\n",
       "\n",
       "    .dataframe tbody tr th {\n",
       "        vertical-align: top;\n",
       "    }\n",
       "\n",
       "    .dataframe thead th {\n",
       "        text-align: right;\n",
       "    }\n",
       "</style>\n",
       "<table border=\"1\" class=\"dataframe\">\n",
       "  <thead>\n",
       "    <tr style=\"text-align: right;\">\n",
       "      <th></th>\n",
       "      <th>Date</th>\n",
       "      <th>SKU</th>\n",
       "      <th>Group</th>\n",
       "      <th>Units Pkg</th>\n",
       "      <th>Avg Price Pkg</th>\n",
       "      <th>Sales Pkg</th>\n",
       "      <th>Turnover per month</th>\n",
       "    </tr>\n",
       "  </thead>\n",
       "  <tbody>\n",
       "    <tr>\n",
       "      <th>0</th>\n",
       "      <td>2018-01-01</td>\n",
       "      <td>SKU_01</td>\n",
       "      <td>A</td>\n",
       "      <td>13</td>\n",
       "      <td>5</td>\n",
       "      <td>879</td>\n",
       "      <td>4395</td>\n",
       "    </tr>\n",
       "    <tr>\n",
       "      <th>1</th>\n",
       "      <td>2018-01-01</td>\n",
       "      <td>SKU_02</td>\n",
       "      <td>B</td>\n",
       "      <td>7</td>\n",
       "      <td>7</td>\n",
       "      <td>8</td>\n",
       "      <td>56</td>\n",
       "    </tr>\n",
       "    <tr>\n",
       "      <th>2</th>\n",
       "      <td>2018-01-01</td>\n",
       "      <td>SKU_03</td>\n",
       "      <td>B</td>\n",
       "      <td>7</td>\n",
       "      <td>6</td>\n",
       "      <td>197</td>\n",
       "      <td>1182</td>\n",
       "    </tr>\n",
       "    <tr>\n",
       "      <th>3</th>\n",
       "      <td>2018-01-01</td>\n",
       "      <td>SKU_04</td>\n",
       "      <td>C</td>\n",
       "      <td>4</td>\n",
       "      <td>6</td>\n",
       "      <td>1</td>\n",
       "      <td>6</td>\n",
       "    </tr>\n",
       "    <tr>\n",
       "      <th>4</th>\n",
       "      <td>2018-01-01</td>\n",
       "      <td>SKU_05</td>\n",
       "      <td>C</td>\n",
       "      <td>6</td>\n",
       "      <td>8</td>\n",
       "      <td>1</td>\n",
       "      <td>8</td>\n",
       "    </tr>\n",
       "  </tbody>\n",
       "</table>\n",
       "</div>"
      ],
      "text/plain": [
       "        Date     SKU Group  Units Pkg  Avg Price Pkg  Sales Pkg  \\\n",
       "0 2018-01-01  SKU_01     A         13              5        879   \n",
       "1 2018-01-01  SKU_02     B          7              7          8   \n",
       "2 2018-01-01  SKU_03     B          7              6        197   \n",
       "3 2018-01-01  SKU_04     C          4              6          1   \n",
       "4 2018-01-01  SKU_05     C          6              8          1   \n",
       "\n",
       "   Turnover per month  \n",
       "0                4395  \n",
       "1                  56  \n",
       "2                1182  \n",
       "3                   6  \n",
       "4                   8  "
      ]
     },
     "execution_count": 31,
     "metadata": {},
     "output_type": "execute_result"
    }
   ],
   "source": [
    "df.head()"
   ]
  },
  {
   "cell_type": "markdown",
   "metadata": {},
   "source": [
    "<div class=\"alert alert-danger alertdanger\" style=\"margin-top: 20px\">\n",
    "  <b style=\"font-size: 2em; font-weight: bold;\">Question #3:</b>\n",
    "\n",
    "<b>According to the example above, normalize the columns \"Sales Pkg\" and \"Turnover per month\".</b>\n",
    "\n",
    "</div>\n"
   ]
  },
  {
   "cell_type": "code",
   "execution_count": 32,
   "metadata": {},
   "outputs": [],
   "source": [
    "# Write your code below and press Shift+Enter to execute \n"
   ]
  },
  {
   "cell_type": "markdown",
   "metadata": {},
   "source": [
    "<details><summary>Click here for the solution</summary>\n",
    "\n",
    "```python\n",
    "df1['Sales Pkg Normalized'] = df['Sales Pkg'] / df['Sales Pkg'].max()\n",
    "df1['Turnover per month Normalized'] = df['Turnover per month'] / df['Turnover per month'].max() \n",
    "\n",
    "# show the scaled columns\n",
    "df1[[\"Sales Pkg Normalized\", \"Turnover per month Normalized\"]].head()\n",
    "\n",
    "\n",
    "```\n",
    "\n",
    "</details>\n"
   ]
  },
  {
   "cell_type": "markdown",
   "metadata": {},
   "source": [
    "Here we can see we've normalized \"Units Pkg\", \"Avg Price Pkg\", \"Sales Pkg\" and \"Turnover per month\" in the range of \\[0,1].\n"
   ]
  },
  {
   "cell_type": "markdown",
   "metadata": {
    "tags": []
   },
   "source": [
    "<div class=\"alert alert-danger alertdanger\" style=\"margin-top: 20px\">\n",
    "  <b style=\"font-size: 2em; font-weight: bold;\">Question #4:</b>\n",
    "\n",
    "<b>Can you normalize the same columns using built-in function?</b>\n",
    "\n",
    "</div>\n"
   ]
  },
  {
   "cell_type": "code",
   "execution_count": 33,
   "metadata": {},
   "outputs": [],
   "source": [
    "# Write your code below and press Shift+Enter to execute \n"
   ]
  },
  {
   "cell_type": "markdown",
   "metadata": {},
   "source": [
    "<details><summary>Click here for hint</summary>\n",
    "    Another way to do it is to use <code>sklearn.preprocessing.normalize</code> function from scikit-learn library.\n",
    "</details>"
   ]
  },
  {
   "cell_type": "markdown",
   "metadata": {},
   "source": [
    "<details><summary>Click here for the solution</summary>\n",
    "\n",
    "```python\n",
    "from sklearn.preprocessing import normalize\n",
    "\n",
    "df1[\"Units Pkg Normalized\"] = normalize(df[\"Units Pkg\"].values.reshape(-1, 1), norm=\"max\", axis=0, copy=False)\n",
    "df1[\"Avg Price Pkg Normalized\"] = normalize(df[\"Avg Price Pkg\"].values.reshape(-1, 1), norm=\"max\", axis=0, copy=False)\n",
    "\n",
    "df1.head()\n",
    "\n",
    "```\n",
    "\n",
    "</details>"
   ]
  },
  {
   "cell_type": "markdown",
   "metadata": {},
   "source": [
    "<details><summary>Click here for explanation</summary>\n",
    "norm field means way to normalize, for example, norm='l2' corresponds to the Euclidean normalization, while norm=\"max\" corresponds for maximum normalization, like we implemented before. axis=0 corresponds to column-wise normalization. If axis=1, row-wise normalization is performed. \n",
    "</details>"
   ]
  },
  {
   "cell_type": "markdown",
   "metadata": {},
   "source": [
    "<h2 id=\"binning\"><b>Binning</b></h2>\n",
    "<b>Why binning?</b>\n",
    "<p>\n",
    "    Binning is a process of transforming continuous numerical variables into discrete categorical 'bins' for grouped analysis.\n",
    "</p>\n",
    "\n",
    "<b>Example: </b>\n",
    "\n",
    "<p>In our dataset, \"Avg Price Pkg\" is a real valued variable ranging from 2 to 26 and it has 19 unique values. (we can check this using <code>df[\"Avg Price Pkg\"].unique()</code> What if we only care about high average price, medium average price and low average price? (3 types) Can we rearrange them into three ‘bins' to simplify analysis? </p>\n",
    "\n",
    "<p>We will use the pandas method 'cut' to segment the 'Avg Price Pkg' column into 3 bins.</p>\n"
   ]
  },
  {
   "cell_type": "markdown",
   "metadata": {},
   "source": [
    "### **Example of Binning Data In Pandas**\n"
   ]
  },
  {
   "cell_type": "markdown",
   "metadata": {},
   "source": [
    "Let's plot the histogram of turnover to see what the distribution of turnover per month looks like.\n"
   ]
  },
  {
   "cell_type": "code",
   "execution_count": 34,
   "metadata": {},
   "outputs": [
    {
     "data": {
      "text/plain": [
       "Text(0.5, 1.0, 'Average Price bins')"
      ]
     },
     "execution_count": 34,
     "metadata": {},
     "output_type": "execute_result"
    },
    {
     "data": {
      "image/png": "[encoded data removed]",
      "text/plain": [
       "<Figure size 640x480 with 1 Axes>"
      ]
     },
     "metadata": {},
     "output_type": "display_data"
    }
   ],
   "source": [
    "import matplotlib as plt\n",
    "from matplotlib import pyplot\n",
    "\n",
    "plt.pyplot.hist(df[\"Avg Price Pkg\"])\n",
    "\n",
    "# set x/y labels and plot title\n",
    "plt.pyplot.xlabel(\"Avg Price Pkg\")\n",
    "plt.pyplot.ylabel(\"count\")\n",
    "plt.pyplot.title(\"Average Price bins\")"
   ]
  },
  {
   "cell_type": "markdown",
   "metadata": {},
   "source": [
    "<p>We would like 3 bins of equal size bandwidth so we use numpy's <code>linspace(start_value, end_value, numbers_generated)</code> function.</p>\n",
    "<p>Since we want to include the minimum value of turnover per month, we want to set <code>start_value = min(df[\"Turnover per month\"])</code>.</p>\n",
    "<p>Since we want to include the maximum value of turnover per month, we want to set <code>end_value = max(df[\"Turnover per month\"])</code>.</p>\n",
    "<p>Since we are building 3 bins of equal length, there should be 4 dividers, so numbers_generated = 4.</p>\n"
   ]
  },
  {
   "cell_type": "markdown",
   "metadata": {},
   "source": [
    "We build a bin array with a minimum value to a maximum value by using the bandwidth calculated above. The values will determine when one bin ends and another begins.\n"
   ]
  },
  {
   "cell_type": "code",
   "execution_count": 35,
   "metadata": {},
   "outputs": [
    {
     "data": {
      "text/plain": [
       "array([ 2., 10., 18., 26.])"
      ]
     },
     "execution_count": 35,
     "metadata": {},
     "output_type": "execute_result"
    }
   ],
   "source": [
    "bins = np.linspace(min(df[\"Avg Price Pkg\"]), max(df[\"Avg Price Pkg\"]), 4)\n",
    "bins"
   ]
  },
  {
   "cell_type": "markdown",
   "metadata": {},
   "source": [
    "We set group  names:\n"
   ]
  },
  {
   "cell_type": "code",
   "execution_count": 36,
   "metadata": {},
   "outputs": [],
   "source": [
    "group_names = ['Low', 'Medium', 'High']"
   ]
  },
  {
   "cell_type": "markdown",
   "metadata": {},
   "source": [
    "We apply the function \"cut\" to determine what each value of `df['Turnover per month']` belongs to.\n"
   ]
  },
  {
   "cell_type": "code",
   "execution_count": 37,
   "metadata": {},
   "outputs": [
    {
     "data": {
      "text/html": [
       "<div>\n",
       "<style scoped>\n",
       "    .dataframe tbody tr th:only-of-type {\n",
       "        vertical-align: middle;\n",
       "    }\n",
       "\n",
       "    .dataframe tbody tr th {\n",
       "        vertical-align: top;\n",
       "    }\n",
       "\n",
       "    .dataframe thead th {\n",
       "        text-align: right;\n",
       "    }\n",
       "</style>\n",
       "<table border=\"1\" class=\"dataframe\">\n",
       "  <thead>\n",
       "    <tr style=\"text-align: right;\">\n",
       "      <th></th>\n",
       "      <th>Avg Price Pkg</th>\n",
       "      <th>Avg Price Pkg binned</th>\n",
       "    </tr>\n",
       "  </thead>\n",
       "  <tbody>\n",
       "    <tr>\n",
       "      <th>0</th>\n",
       "      <td>5</td>\n",
       "      <td>Low</td>\n",
       "    </tr>\n",
       "    <tr>\n",
       "      <th>1</th>\n",
       "      <td>7</td>\n",
       "      <td>Low</td>\n",
       "    </tr>\n",
       "    <tr>\n",
       "      <th>2</th>\n",
       "      <td>6</td>\n",
       "      <td>Low</td>\n",
       "    </tr>\n",
       "    <tr>\n",
       "      <th>3</th>\n",
       "      <td>6</td>\n",
       "      <td>Low</td>\n",
       "    </tr>\n",
       "    <tr>\n",
       "      <th>4</th>\n",
       "      <td>8</td>\n",
       "      <td>Low</td>\n",
       "    </tr>\n",
       "    <tr>\n",
       "      <th>5</th>\n",
       "      <td>8</td>\n",
       "      <td>Low</td>\n",
       "    </tr>\n",
       "    <tr>\n",
       "      <th>6</th>\n",
       "      <td>9</td>\n",
       "      <td>Low</td>\n",
       "    </tr>\n",
       "    <tr>\n",
       "      <th>7</th>\n",
       "      <td>8</td>\n",
       "      <td>Low</td>\n",
       "    </tr>\n",
       "    <tr>\n",
       "      <th>8</th>\n",
       "      <td>7</td>\n",
       "      <td>Low</td>\n",
       "    </tr>\n",
       "    <tr>\n",
       "      <th>9</th>\n",
       "      <td>7</td>\n",
       "      <td>Low</td>\n",
       "    </tr>\n",
       "    <tr>\n",
       "      <th>10</th>\n",
       "      <td>7</td>\n",
       "      <td>Low</td>\n",
       "    </tr>\n",
       "    <tr>\n",
       "      <th>11</th>\n",
       "      <td>9</td>\n",
       "      <td>Low</td>\n",
       "    </tr>\n",
       "    <tr>\n",
       "      <th>12</th>\n",
       "      <td>8</td>\n",
       "      <td>Low</td>\n",
       "    </tr>\n",
       "    <tr>\n",
       "      <th>13</th>\n",
       "      <td>7</td>\n",
       "      <td>Low</td>\n",
       "    </tr>\n",
       "    <tr>\n",
       "      <th>14</th>\n",
       "      <td>7</td>\n",
       "      <td>Low</td>\n",
       "    </tr>\n",
       "  </tbody>\n",
       "</table>\n",
       "</div>"
      ],
      "text/plain": [
       "    Avg Price Pkg Avg Price Pkg binned\n",
       "0               5                  Low\n",
       "1               7                  Low\n",
       "2               6                  Low\n",
       "3               6                  Low\n",
       "4               8                  Low\n",
       "5               8                  Low\n",
       "6               9                  Low\n",
       "7               8                  Low\n",
       "8               7                  Low\n",
       "9               7                  Low\n",
       "10              7                  Low\n",
       "11              9                  Low\n",
       "12              8                  Low\n",
       "13              7                  Low\n",
       "14              7                  Low"
      ]
     },
     "execution_count": 37,
     "metadata": {},
     "output_type": "execute_result"
    }
   ],
   "source": [
    "df['Avg Price Pkg binned'] = pd.cut(df['Avg Price Pkg'], bins, labels=group_names, include_lowest=True )\n",
    "df[['Avg Price Pkg','Avg Price Pkg binned']].head(15)"
   ]
  },
  {
   "cell_type": "markdown",
   "metadata": {},
   "source": [
    "Let's see the number of vehicles in each bin:\n"
   ]
  },
  {
   "cell_type": "code",
   "execution_count": 38,
   "metadata": {},
   "outputs": [
    {
     "data": {
      "text/plain": [
       "Low       2822\n",
       "Medium    1251\n",
       "High        65\n",
       "Name: Avg Price Pkg binned, dtype: int64"
      ]
     },
     "execution_count": 38,
     "metadata": {},
     "output_type": "execute_result"
    }
   ],
   "source": [
    "df[\"Avg Price Pkg binned\"].value_counts()"
   ]
  },
  {
   "cell_type": "markdown",
   "metadata": {},
   "source": [
    "Let's plot the distribution of each bin:\n"
   ]
  },
  {
   "cell_type": "code",
   "execution_count": 39,
   "metadata": {},
   "outputs": [
    {
     "data": {
      "text/plain": [
       "Text(0.5, 1.0, 'Average price bins')"
      ]
     },
     "execution_count": 39,
     "metadata": {},
     "output_type": "execute_result"
    },
    {
     "data": {
      "image/png": "[encoded data removed]",
      "text/plain": [
       "<Figure size 640x480 with 1 Axes>"
      ]
     },
     "metadata": {},
     "output_type": "display_data"
    }
   ],
   "source": [
    "pyplot.bar(group_names, df[\"Avg Price Pkg binned\"].value_counts())\n",
    "\n",
    "# set x/y labels and plot title\n",
    "plt.pyplot.xlabel(\"Avg Price Pkg\")\n",
    "plt.pyplot.ylabel(\"count\")\n",
    "plt.pyplot.title(\"Average price bins\")"
   ]
  },
  {
   "cell_type": "markdown",
   "metadata": {},
   "source": [
    "<p>\n",
    "    Look at the dataframe above carefully. You will find that the last column provides the bins for average price based on 3 categories (\"Low\", \"Medium\" and \"High\"). \n",
    "</p>\n",
    "<p>\n",
    "    We successfully narrowed down the intervals from 19 to 3!\n",
    "</p>\n"
   ]
  },
  {
   "cell_type": "markdown",
   "metadata": {},
   "source": [
    "### **Bins Visualization**\n",
    "Normally, a histogram is used to visualize the distribution of bins we created above. \n"
   ]
  },
  {
   "cell_type": "code",
   "execution_count": 40,
   "metadata": {
    "tags": []
   },
   "outputs": [
    {
     "data": {
      "text/plain": [
       "Text(0.5, 1.0, 'Average price bins')"
      ]
     },
     "execution_count": 40,
     "metadata": {},
     "output_type": "execute_result"
    },
    {
     "data": {
      "image/png": "[encoded data removed]",
      "text/plain": [
       "<Figure size 640x480 with 1 Axes>"
      ]
     },
     "metadata": {},
     "output_type": "display_data"
    }
   ],
   "source": [
    "# draw historgram of attribute \"Turnover per month\" with bins = 3\n",
    "plt.pyplot.hist(df[\"Avg Price Pkg\"], bins = 3)\n",
    "\n",
    "# set x/y labels and plot title\n",
    "plt.pyplot.xlabel(\"Avg Price Pkg\")\n",
    "plt.pyplot.ylabel(\"count\")\n",
    "plt.pyplot.title(\"Average price bins\")"
   ]
  },
  {
   "cell_type": "markdown",
   "metadata": {},
   "source": [
    "The plot above shows the binning result for the attribute \"Avg Price Pkg\".\n"
   ]
  },
  {
   "cell_type": "markdown",
   "metadata": {},
   "source": [
    "<div class=\"alert alert-danger alertdanger\" style=\"margin-top: 20px\">\n",
    "  <b style=\"font-size: 2em; font-weight: bold;\">Question #5:</b>\n",
    "\n",
    "<b>Bin column \"Sales Pkg\" and visualize it.</b>\n",
    "\n",
    "</div>\n"
   ]
  },
  {
   "cell_type": "code",
   "execution_count": 52,
   "metadata": {},
   "outputs": [],
   "source": [
    "# Write your code below and press Shift+Enter to execute \n"
   ]
  },
  {
   "cell_type": "markdown",
   "metadata": {},
   "source": [
    "<details><summary>Click here for the solution</summary>\n",
    "\n",
    "```python\n",
    "# to see distribution of total package sales\n",
    "plt.pyplot.hist(df[\"Sales Pkg\"])\n",
    "plt.pyplot.xlabel(\"Sales Pkg\")\n",
    "plt.pyplot.ylabel(\"count\")\n",
    "plt.pyplot.title(\"Total package sales\")\n",
    "\n",
    "# divide to 3 bins\n",
    "bins_sales = np.linspace(min(df[\"Sales Pkg\"]), max(df[\"Sales Pkg\"]), 4)\n",
    "bins_sales\n",
    "\n",
    "# give a name\n",
    "df[\"Sales Pkg binned\"] = pd.cut(df[\"Sales Pkg\"], bins_sales, labels=group_names, include_lowest=True)\n",
    "df[[\"Sales Pkg binned\", \"Sales Pkg\"]].head()\n",
    "\n",
    "# visualize binned\n",
    "plt.pyplot.bar(group_names, df[\"Sales Pkg binned\"].value_counts())\n",
    "plt.pyplot.xlabel(\"Sales Pkg bins\")\n",
    "plt.pyplot.ylabel(\"count\")\n",
    "plt.pyplot.title(\"Total package sales\")\n",
    "```\n",
    "\n",
    "</details>\n"
   ]
  },
  {
   "cell_type": "markdown",
   "metadata": {},
   "source": [
    "<h2 id=\"indicator\"><b>Indicator Variable (or Dummy Variable)</b></h2>\n",
    "<b>What is an indicator variable?</b>\n",
    "<p>\n",
    "    An indicator variable (or dummy variable) is a numerical variable used to label categories. They are called 'dummies' because the numbers themselves don't have inherent meaning. \n",
    "</p>\n",
    "\n",
    "<b>Why we use indicator variables?</b>\n",
    "\n",
    "<p>\n",
    "    We use indicator variables so we can use categorical variables for regression analysis in the later modules.\n",
    "</p>\n",
    "<b>Example</b>\n",
    "<p>\n",
    "    We see the column \"Avg Price Pkg binned\" has 3 unique values. Regression doesn't understand words, only numbers. To use this attribute in regression analysis, we convert \"Avg Price Pkg binned\" to indicator variables.\n",
    "</p>\n",
    "\n",
    "<p>\n",
    "    We will use pandas' method <code>get_dummies</code> to assign numerical values to different categories of \"Avg Price Pkg binned\". \n",
    "</p>\n"
   ]
  },
  {
   "cell_type": "code",
   "execution_count": 42,
   "metadata": {},
   "outputs": [
    {
     "data": {
      "text/plain": [
       "['Low', 'Medium', 'High']\n",
       "Categories (3, object): ['Low' < 'Medium' < 'High']"
      ]
     },
     "execution_count": 42,
     "metadata": {},
     "output_type": "execute_result"
    }
   ],
   "source": [
    "df[\"Avg Price Pkg binned\"].unique()"
   ]
  },
  {
   "cell_type": "code",
   "execution_count": 43,
   "metadata": {},
   "outputs": [
    {
     "data": {
      "text/plain": [
       "3"
      ]
     },
     "execution_count": 43,
     "metadata": {},
     "output_type": "execute_result"
    }
   ],
   "source": [
    "df[\"Avg Price Pkg binned\"].nunique()"
   ]
  },
  {
   "cell_type": "code",
   "execution_count": 44,
   "metadata": {},
   "outputs": [
    {
     "data": {
      "text/html": [
       "<div>\n",
       "<style scoped>\n",
       "    .dataframe tbody tr th:only-of-type {\n",
       "        vertical-align: middle;\n",
       "    }\n",
       "\n",
       "    .dataframe tbody tr th {\n",
       "        vertical-align: top;\n",
       "    }\n",
       "\n",
       "    .dataframe thead th {\n",
       "        text-align: right;\n",
       "    }\n",
       "</style>\n",
       "<table border=\"1\" class=\"dataframe\">\n",
       "  <thead>\n",
       "    <tr style=\"text-align: right;\">\n",
       "      <th></th>\n",
       "      <th>Date</th>\n",
       "      <th>SKU</th>\n",
       "      <th>Group</th>\n",
       "      <th>Units Pkg</th>\n",
       "      <th>Avg Price Pkg</th>\n",
       "      <th>Sales Pkg</th>\n",
       "      <th>Turnover per month</th>\n",
       "      <th>Avg Price Pkg binned</th>\n",
       "      <th>Sales Pkg binned</th>\n",
       "    </tr>\n",
       "  </thead>\n",
       "  <tbody>\n",
       "    <tr>\n",
       "      <th>0</th>\n",
       "      <td>2018-01-01</td>\n",
       "      <td>SKU_01</td>\n",
       "      <td>A</td>\n",
       "      <td>13</td>\n",
       "      <td>5</td>\n",
       "      <td>879</td>\n",
       "      <td>4395</td>\n",
       "      <td>Low</td>\n",
       "      <td>Low</td>\n",
       "    </tr>\n",
       "    <tr>\n",
       "      <th>1</th>\n",
       "      <td>2018-01-01</td>\n",
       "      <td>SKU_02</td>\n",
       "      <td>B</td>\n",
       "      <td>7</td>\n",
       "      <td>7</td>\n",
       "      <td>8</td>\n",
       "      <td>56</td>\n",
       "      <td>Low</td>\n",
       "      <td>Low</td>\n",
       "    </tr>\n",
       "    <tr>\n",
       "      <th>2</th>\n",
       "      <td>2018-01-01</td>\n",
       "      <td>SKU_03</td>\n",
       "      <td>B</td>\n",
       "      <td>7</td>\n",
       "      <td>6</td>\n",
       "      <td>197</td>\n",
       "      <td>1182</td>\n",
       "      <td>Low</td>\n",
       "      <td>Low</td>\n",
       "    </tr>\n",
       "    <tr>\n",
       "      <th>3</th>\n",
       "      <td>2018-01-01</td>\n",
       "      <td>SKU_04</td>\n",
       "      <td>C</td>\n",
       "      <td>4</td>\n",
       "      <td>6</td>\n",
       "      <td>1</td>\n",
       "      <td>6</td>\n",
       "      <td>Low</td>\n",
       "      <td>Low</td>\n",
       "    </tr>\n",
       "    <tr>\n",
       "      <th>4</th>\n",
       "      <td>2018-01-01</td>\n",
       "      <td>SKU_05</td>\n",
       "      <td>C</td>\n",
       "      <td>6</td>\n",
       "      <td>8</td>\n",
       "      <td>1</td>\n",
       "      <td>8</td>\n",
       "      <td>Low</td>\n",
       "      <td>Low</td>\n",
       "    </tr>\n",
       "  </tbody>\n",
       "</table>\n",
       "</div>"
      ],
      "text/plain": [
       "        Date     SKU Group  Units Pkg  Avg Price Pkg  Sales Pkg  \\\n",
       "0 2018-01-01  SKU_01     A         13              5        879   \n",
       "1 2018-01-01  SKU_02     B          7              7          8   \n",
       "2 2018-01-01  SKU_03     B          7              6        197   \n",
       "3 2018-01-01  SKU_04     C          4              6          1   \n",
       "4 2018-01-01  SKU_05     C          6              8          1   \n",
       "\n",
       "   Turnover per month Avg Price Pkg binned Sales Pkg binned  \n",
       "0                4395                  Low              Low  \n",
       "1                  56                  Low              Low  \n",
       "2                1182                  Low              Low  \n",
       "3                   6                  Low              Low  \n",
       "4                   8                  Low              Low  "
      ]
     },
     "execution_count": 44,
     "metadata": {},
     "output_type": "execute_result"
    }
   ],
   "source": [
    "df.head()"
   ]
  },
  {
   "cell_type": "markdown",
   "metadata": {},
   "source": [
    "Get the indicator variables and assign it to data frame \"dummy_variable\\_1\":\n"
   ]
  },
  {
   "cell_type": "code",
   "execution_count": 45,
   "metadata": {},
   "outputs": [
    {
     "data": {
      "text/html": [
       "<div>\n",
       "<style scoped>\n",
       "    .dataframe tbody tr th:only-of-type {\n",
       "        vertical-align: middle;\n",
       "    }\n",
       "\n",
       "    .dataframe tbody tr th {\n",
       "        vertical-align: top;\n",
       "    }\n",
       "\n",
       "    .dataframe thead th {\n",
       "        text-align: right;\n",
       "    }\n",
       "</style>\n",
       "<table border=\"1\" class=\"dataframe\">\n",
       "  <thead>\n",
       "    <tr style=\"text-align: right;\">\n",
       "      <th></th>\n",
       "      <th>Low</th>\n",
       "      <th>Medium</th>\n",
       "      <th>High</th>\n",
       "    </tr>\n",
       "  </thead>\n",
       "  <tbody>\n",
       "    <tr>\n",
       "      <th>0</th>\n",
       "      <td>1</td>\n",
       "      <td>0</td>\n",
       "      <td>0</td>\n",
       "    </tr>\n",
       "    <tr>\n",
       "      <th>1</th>\n",
       "      <td>1</td>\n",
       "      <td>0</td>\n",
       "      <td>0</td>\n",
       "    </tr>\n",
       "    <tr>\n",
       "      <th>2</th>\n",
       "      <td>1</td>\n",
       "      <td>0</td>\n",
       "      <td>0</td>\n",
       "    </tr>\n",
       "    <tr>\n",
       "      <th>3</th>\n",
       "      <td>1</td>\n",
       "      <td>0</td>\n",
       "      <td>0</td>\n",
       "    </tr>\n",
       "    <tr>\n",
       "      <th>4</th>\n",
       "      <td>1</td>\n",
       "      <td>0</td>\n",
       "      <td>0</td>\n",
       "    </tr>\n",
       "  </tbody>\n",
       "</table>\n",
       "</div>"
      ],
      "text/plain": [
       "   Low  Medium  High\n",
       "0    1       0     0\n",
       "1    1       0     0\n",
       "2    1       0     0\n",
       "3    1       0     0\n",
       "4    1       0     0"
      ]
     },
     "execution_count": 45,
     "metadata": {},
     "output_type": "execute_result"
    }
   ],
   "source": [
    "dummy_variable = pd.get_dummies(df[\"Avg Price Pkg binned\"])\n",
    "dummy_variable.head()"
   ]
  },
  {
   "cell_type": "markdown",
   "metadata": {},
   "source": [
    "We can get data at certain indexes:"
   ]
  },
  {
   "cell_type": "code",
   "execution_count": 46,
   "metadata": {},
   "outputs": [
    {
     "data": {
      "text/html": [
       "<div>\n",
       "<style scoped>\n",
       "    .dataframe tbody tr th:only-of-type {\n",
       "        vertical-align: middle;\n",
       "    }\n",
       "\n",
       "    .dataframe tbody tr th {\n",
       "        vertical-align: top;\n",
       "    }\n",
       "\n",
       "    .dataframe thead th {\n",
       "        text-align: right;\n",
       "    }\n",
       "</style>\n",
       "<table border=\"1\" class=\"dataframe\">\n",
       "  <thead>\n",
       "    <tr style=\"text-align: right;\">\n",
       "      <th></th>\n",
       "      <th>Low</th>\n",
       "      <th>Medium</th>\n",
       "      <th>High</th>\n",
       "    </tr>\n",
       "  </thead>\n",
       "  <tbody>\n",
       "    <tr>\n",
       "      <th>765</th>\n",
       "      <td>1</td>\n",
       "      <td>0</td>\n",
       "      <td>0</td>\n",
       "    </tr>\n",
       "    <tr>\n",
       "      <th>766</th>\n",
       "      <td>1</td>\n",
       "      <td>0</td>\n",
       "      <td>0</td>\n",
       "    </tr>\n",
       "    <tr>\n",
       "      <th>767</th>\n",
       "      <td>1</td>\n",
       "      <td>0</td>\n",
       "      <td>0</td>\n",
       "    </tr>\n",
       "    <tr>\n",
       "      <th>768</th>\n",
       "      <td>1</td>\n",
       "      <td>0</td>\n",
       "      <td>0</td>\n",
       "    </tr>\n",
       "    <tr>\n",
       "      <th>769</th>\n",
       "      <td>1</td>\n",
       "      <td>0</td>\n",
       "      <td>0</td>\n",
       "    </tr>\n",
       "    <tr>\n",
       "      <th>...</th>\n",
       "      <td>...</td>\n",
       "      <td>...</td>\n",
       "      <td>...</td>\n",
       "    </tr>\n",
       "    <tr>\n",
       "      <th>4133</th>\n",
       "      <td>1</td>\n",
       "      <td>0</td>\n",
       "      <td>0</td>\n",
       "    </tr>\n",
       "    <tr>\n",
       "      <th>4134</th>\n",
       "      <td>1</td>\n",
       "      <td>0</td>\n",
       "      <td>0</td>\n",
       "    </tr>\n",
       "    <tr>\n",
       "      <th>4135</th>\n",
       "      <td>0</td>\n",
       "      <td>1</td>\n",
       "      <td>0</td>\n",
       "    </tr>\n",
       "    <tr>\n",
       "      <th>4136</th>\n",
       "      <td>1</td>\n",
       "      <td>0</td>\n",
       "      <td>0</td>\n",
       "    </tr>\n",
       "    <tr>\n",
       "      <th>4137</th>\n",
       "      <td>0</td>\n",
       "      <td>1</td>\n",
       "      <td>0</td>\n",
       "    </tr>\n",
       "  </tbody>\n",
       "</table>\n",
       "<p>3373 rows × 3 columns</p>\n",
       "</div>"
      ],
      "text/plain": [
       "      Low  Medium  High\n",
       "765     1       0     0\n",
       "766     1       0     0\n",
       "767     1       0     0\n",
       "768     1       0     0\n",
       "769     1       0     0\n",
       "...   ...     ...   ...\n",
       "4133    1       0     0\n",
       "4134    1       0     0\n",
       "4135    0       1     0\n",
       "4136    1       0     0\n",
       "4137    0       1     0\n",
       "\n",
       "[3373 rows x 3 columns]"
      ]
     },
     "execution_count": 46,
     "metadata": {},
     "output_type": "execute_result"
    }
   ],
   "source": [
    "dummy_variable.loc[765:]"
   ]
  },
  {
   "cell_type": "markdown",
   "metadata": {},
   "source": [
    "Or we can get, for instance, data about high turnover:"
   ]
  },
  {
   "cell_type": "code",
   "execution_count": 47,
   "metadata": {},
   "outputs": [
    {
     "data": {
      "text/html": [
       "<div>\n",
       "<style scoped>\n",
       "    .dataframe tbody tr th:only-of-type {\n",
       "        vertical-align: middle;\n",
       "    }\n",
       "\n",
       "    .dataframe tbody tr th {\n",
       "        vertical-align: top;\n",
       "    }\n",
       "\n",
       "    .dataframe thead th {\n",
       "        text-align: right;\n",
       "    }\n",
       "</style>\n",
       "<table border=\"1\" class=\"dataframe\">\n",
       "  <thead>\n",
       "    <tr style=\"text-align: right;\">\n",
       "      <th></th>\n",
       "      <th>Low</th>\n",
       "      <th>Medium</th>\n",
       "      <th>High</th>\n",
       "    </tr>\n",
       "  </thead>\n",
       "  <tbody>\n",
       "    <tr>\n",
       "      <th>3023</th>\n",
       "      <td>0</td>\n",
       "      <td>0</td>\n",
       "      <td>1</td>\n",
       "    </tr>\n",
       "    <tr>\n",
       "      <th>3024</th>\n",
       "      <td>0</td>\n",
       "      <td>0</td>\n",
       "      <td>1</td>\n",
       "    </tr>\n",
       "    <tr>\n",
       "      <th>3025</th>\n",
       "      <td>0</td>\n",
       "      <td>0</td>\n",
       "      <td>1</td>\n",
       "    </tr>\n",
       "    <tr>\n",
       "      <th>3095</th>\n",
       "      <td>0</td>\n",
       "      <td>0</td>\n",
       "      <td>1</td>\n",
       "    </tr>\n",
       "    <tr>\n",
       "      <th>3096</th>\n",
       "      <td>0</td>\n",
       "      <td>0</td>\n",
       "      <td>1</td>\n",
       "    </tr>\n",
       "    <tr>\n",
       "      <th>...</th>\n",
       "      <td>...</td>\n",
       "      <td>...</td>\n",
       "      <td>...</td>\n",
       "    </tr>\n",
       "    <tr>\n",
       "      <th>4116</th>\n",
       "      <td>0</td>\n",
       "      <td>0</td>\n",
       "      <td>1</td>\n",
       "    </tr>\n",
       "    <tr>\n",
       "      <th>4117</th>\n",
       "      <td>0</td>\n",
       "      <td>0</td>\n",
       "      <td>1</td>\n",
       "    </tr>\n",
       "    <tr>\n",
       "      <th>4118</th>\n",
       "      <td>0</td>\n",
       "      <td>0</td>\n",
       "      <td>1</td>\n",
       "    </tr>\n",
       "    <tr>\n",
       "      <th>4128</th>\n",
       "      <td>0</td>\n",
       "      <td>0</td>\n",
       "      <td>1</td>\n",
       "    </tr>\n",
       "    <tr>\n",
       "      <th>4129</th>\n",
       "      <td>0</td>\n",
       "      <td>0</td>\n",
       "      <td>1</td>\n",
       "    </tr>\n",
       "  </tbody>\n",
       "</table>\n",
       "<p>65 rows × 3 columns</p>\n",
       "</div>"
      ],
      "text/plain": [
       "      Low  Medium  High\n",
       "3023    0       0     1\n",
       "3024    0       0     1\n",
       "3025    0       0     1\n",
       "3095    0       0     1\n",
       "3096    0       0     1\n",
       "...   ...     ...   ...\n",
       "4116    0       0     1\n",
       "4117    0       0     1\n",
       "4118    0       0     1\n",
       "4128    0       0     1\n",
       "4129    0       0     1\n",
       "\n",
       "[65 rows x 3 columns]"
      ]
     },
     "execution_count": 47,
     "metadata": {},
     "output_type": "execute_result"
    }
   ],
   "source": [
    "dummy_variable[dummy_variable[\"High\"] == 1]"
   ]
  },
  {
   "cell_type": "markdown",
   "metadata": {},
   "source": [
    "Change the column names for clarity:\n"
   ]
  },
  {
   "cell_type": "code",
   "execution_count": 48,
   "metadata": {},
   "outputs": [
    {
     "data": {
      "text/html": [
       "<div>\n",
       "<style scoped>\n",
       "    .dataframe tbody tr th:only-of-type {\n",
       "        vertical-align: middle;\n",
       "    }\n",
       "\n",
       "    .dataframe tbody tr th {\n",
       "        vertical-align: top;\n",
       "    }\n",
       "\n",
       "    .dataframe thead th {\n",
       "        text-align: right;\n",
       "    }\n",
       "</style>\n",
       "<table border=\"1\" class=\"dataframe\">\n",
       "  <thead>\n",
       "    <tr style=\"text-align: right;\">\n",
       "      <th></th>\n",
       "      <th>Low avg price</th>\n",
       "      <th>Medium avg price</th>\n",
       "      <th>High avg price</th>\n",
       "    </tr>\n",
       "  </thead>\n",
       "  <tbody>\n",
       "    <tr>\n",
       "      <th>0</th>\n",
       "      <td>1</td>\n",
       "      <td>0</td>\n",
       "      <td>0</td>\n",
       "    </tr>\n",
       "    <tr>\n",
       "      <th>1</th>\n",
       "      <td>1</td>\n",
       "      <td>0</td>\n",
       "      <td>0</td>\n",
       "    </tr>\n",
       "    <tr>\n",
       "      <th>2</th>\n",
       "      <td>1</td>\n",
       "      <td>0</td>\n",
       "      <td>0</td>\n",
       "    </tr>\n",
       "    <tr>\n",
       "      <th>3</th>\n",
       "      <td>1</td>\n",
       "      <td>0</td>\n",
       "      <td>0</td>\n",
       "    </tr>\n",
       "    <tr>\n",
       "      <th>4</th>\n",
       "      <td>1</td>\n",
       "      <td>0</td>\n",
       "      <td>0</td>\n",
       "    </tr>\n",
       "  </tbody>\n",
       "</table>\n",
       "</div>"
      ],
      "text/plain": [
       "   Low avg price  Medium avg price  High avg price\n",
       "0              1                 0               0\n",
       "1              1                 0               0\n",
       "2              1                 0               0\n",
       "3              1                 0               0\n",
       "4              1                 0               0"
      ]
     },
     "execution_count": 48,
     "metadata": {},
     "output_type": "execute_result"
    }
   ],
   "source": [
    "dummy_variable.rename(columns={'Low':'Low avg price', 'Medium':'Medium avg price', \"High\" : \"High avg price\"}, inplace=True)\n",
    "dummy_variable.head()"
   ]
  },
  {
   "cell_type": "code",
   "execution_count": 49,
   "metadata": {},
   "outputs": [],
   "source": [
    "# merge data frame \"df\" and \"dummy_variable_1\" \n",
    "df = pd.concat([df, dummy_variable], axis=1)\n",
    "\n",
    "# drop original column \"Turnover per month binned\" from \"df\"\n",
    "# df.drop(\"Turnover per month binned\", axis=1, inplace=True)"
   ]
  },
  {
   "cell_type": "markdown",
   "metadata": {},
   "source": [
    "Note: you can delete \"Turnover per month binned\", but if you want to rerun code of distribution of each bin you must restart kernel."
   ]
  },
  {
   "cell_type": "code",
   "execution_count": 50,
   "metadata": {},
   "outputs": [
    {
     "data": {
      "text/html": [
       "<div>\n",
       "<style scoped>\n",
       "    .dataframe tbody tr th:only-of-type {\n",
       "        vertical-align: middle;\n",
       "    }\n",
       "\n",
       "    .dataframe tbody tr th {\n",
       "        vertical-align: top;\n",
       "    }\n",
       "\n",
       "    .dataframe thead th {\n",
       "        text-align: right;\n",
       "    }\n",
       "</style>\n",
       "<table border=\"1\" class=\"dataframe\">\n",
       "  <thead>\n",
       "    <tr style=\"text-align: right;\">\n",
       "      <th></th>\n",
       "      <th>Date</th>\n",
       "      <th>SKU</th>\n",
       "      <th>Group</th>\n",
       "      <th>Units Pkg</th>\n",
       "      <th>Avg Price Pkg</th>\n",
       "      <th>Sales Pkg</th>\n",
       "      <th>Turnover per month</th>\n",
       "      <th>Avg Price Pkg binned</th>\n",
       "      <th>Sales Pkg binned</th>\n",
       "      <th>Low avg price</th>\n",
       "      <th>Medium avg price</th>\n",
       "      <th>High avg price</th>\n",
       "    </tr>\n",
       "  </thead>\n",
       "  <tbody>\n",
       "    <tr>\n",
       "      <th>0</th>\n",
       "      <td>2018-01-01</td>\n",
       "      <td>SKU_01</td>\n",
       "      <td>A</td>\n",
       "      <td>13</td>\n",
       "      <td>5</td>\n",
       "      <td>879</td>\n",
       "      <td>4395</td>\n",
       "      <td>Low</td>\n",
       "      <td>Low</td>\n",
       "      <td>1</td>\n",
       "      <td>0</td>\n",
       "      <td>0</td>\n",
       "    </tr>\n",
       "    <tr>\n",
       "      <th>1</th>\n",
       "      <td>2018-01-01</td>\n",
       "      <td>SKU_02</td>\n",
       "      <td>B</td>\n",
       "      <td>7</td>\n",
       "      <td>7</td>\n",
       "      <td>8</td>\n",
       "      <td>56</td>\n",
       "      <td>Low</td>\n",
       "      <td>Low</td>\n",
       "      <td>1</td>\n",
       "      <td>0</td>\n",
       "      <td>0</td>\n",
       "    </tr>\n",
       "    <tr>\n",
       "      <th>2</th>\n",
       "      <td>2018-01-01</td>\n",
       "      <td>SKU_03</td>\n",
       "      <td>B</td>\n",
       "      <td>7</td>\n",
       "      <td>6</td>\n",
       "      <td>197</td>\n",
       "      <td>1182</td>\n",
       "      <td>Low</td>\n",
       "      <td>Low</td>\n",
       "      <td>1</td>\n",
       "      <td>0</td>\n",
       "      <td>0</td>\n",
       "    </tr>\n",
       "    <tr>\n",
       "      <th>3</th>\n",
       "      <td>2018-01-01</td>\n",
       "      <td>SKU_04</td>\n",
       "      <td>C</td>\n",
       "      <td>4</td>\n",
       "      <td>6</td>\n",
       "      <td>1</td>\n",
       "      <td>6</td>\n",
       "      <td>Low</td>\n",
       "      <td>Low</td>\n",
       "      <td>1</td>\n",
       "      <td>0</td>\n",
       "      <td>0</td>\n",
       "    </tr>\n",
       "    <tr>\n",
       "      <th>4</th>\n",
       "      <td>2018-01-01</td>\n",
       "      <td>SKU_05</td>\n",
       "      <td>C</td>\n",
       "      <td>6</td>\n",
       "      <td>8</td>\n",
       "      <td>1</td>\n",
       "      <td>8</td>\n",
       "      <td>Low</td>\n",
       "      <td>Low</td>\n",
       "      <td>1</td>\n",
       "      <td>0</td>\n",
       "      <td>0</td>\n",
       "    </tr>\n",
       "  </tbody>\n",
       "</table>\n",
       "</div>"
      ],
      "text/plain": [
       "        Date     SKU Group  Units Pkg  Avg Price Pkg  Sales Pkg  \\\n",
       "0 2018-01-01  SKU_01     A         13              5        879   \n",
       "1 2018-01-01  SKU_02     B          7              7          8   \n",
       "2 2018-01-01  SKU_03     B          7              6        197   \n",
       "3 2018-01-01  SKU_04     C          4              6          1   \n",
       "4 2018-01-01  SKU_05     C          6              8          1   \n",
       "\n",
       "   Turnover per month Avg Price Pkg binned Sales Pkg binned  Low avg price  \\\n",
       "0                4395                  Low              Low              1   \n",
       "1                  56                  Low              Low              1   \n",
       "2                1182                  Low              Low              1   \n",
       "3                   6                  Low              Low              1   \n",
       "4                   8                  Low              Low              1   \n",
       "\n",
       "   Medium avg price  High avg price  \n",
       "0                 0               0  \n",
       "1                 0               0  \n",
       "2                 0               0  \n",
       "3                 0               0  \n",
       "4                 0               0  "
      ]
     },
     "execution_count": 50,
     "metadata": {},
     "output_type": "execute_result"
    }
   ],
   "source": [
    "df.head()"
   ]
  },
  {
   "cell_type": "markdown",
   "metadata": {},
   "source": [
    "The last three columns are now the indicator variable representation of the \"Avg Price Pkg binned\" variable. They're all 0s and 1s now.\n"
   ]
  },
  {
   "cell_type": "markdown",
   "metadata": {},
   "source": [
    "**Save the new csv**"
   ]
  },
  {
   "cell_type": "code",
   "execution_count": 51,
   "metadata": {},
   "outputs": [],
   "source": [
    "df.to_csv('clean_sales_1.csv', index=False)"
   ]
  },
  {
   "cell_type": "markdown",
   "metadata": {},
   "source": [
    "> Note : The  csv file cannot be viewed in the jupyterlite based SN labs environment.However you can Click <a href=\"https://cf-courses-data.s3.us.cloud-object-storage.appdomain.cloud/IBMDeveloperSkillsNetwork-DA0101EN-SkillsNetwork/labs/Module%202/DA0101EN-2-Review-Data-Wrangling.ipynb?utm_medium=Exinfluencer&utm_source=Exinfluencer&utm_content=000026UJ&utm_term=10006555&utm_id=NA-SkillsNetwork-Channel-SkillsNetworkCoursesIBMDeveloperSkillsNetworkDA0101ENSkillsNetwork20235326-2022-01-01\">EDIT WHEN PUBLISH LAB 2!!!!!!!!!!!!!!!!</a> to download the lab notebook (.ipynb) to your local machine and view the csv file once the notebook is executed.\n"
   ]
  },
  {
   "cell_type": "markdown",
   "metadata": {},
   "source": [
    "### **Thank you for completing this lab!**\n",
    "\n",
    "## Author\n",
    "\n",
    "<a href=\"https://www.linkedin.com/in/joseph-s-50398b136/?utm_medium=Exinfluencer&utm_source=Exinfluencer&utm_content=000026UJ&utm_term=10006555&utm_id=NA-SkillsNetwork-Channel-SkillsNetworkCoursesIBMDeveloperSkillsNetworkDA0101ENSkillsNetwork20235326-2021-01-01\" target=\"_blank\">Joseph Santarcangelo</a>\n",
    "\n",
    "### Other Contributors\n",
    "\n",
    "<a href=\"https://www.linkedin.com/in/mahdi-noorian-58219234/?utm_medium=Exinfluencer&utm_source=Exinfluencer&utm_content=000026UJ&utm_term=10006555&utm_id=NA-SkillsNetwork-Channel-SkillsNetworkCoursesIBMDeveloperSkillsNetworkDA0101ENSkillsNetwork20235326-2021-01-01\" target=\"_blank\">Mahdi Noorian PhD</a>\n",
    "\n",
    "Bahare Talayian\n",
    "\n",
    "Eric Xiao\n",
    "\n",
    "Steven Dong\n",
    "\n",
    "Parizad\n",
    "\n",
    "Hima Vasudevan\n",
    "\n",
    "<a href=\"https://www.linkedin.com/in/fiorellawever/?utm_medium=Exinfluencer&utm_source=Exinfluencer&utm_content=000026UJ&utm_term=10006555&utm_id=NA-SkillsNetwork-Channel-SkillsNetworkCoursesIBMDeveloperSkillsNetworkDA0101ENSkillsNetwork20235326-2021-01-01\" target=\"_blank\">Fiorella Wenver</a>\n",
    "\n",
    "<a href=\"https:// https://www.linkedin.com/in/yi-leng-yao-84451275/ \" target=\"_blank\" >Yi Yao</a>.\n",
    "\n",
    "## Change Log\n",
    "\n",
    "| Date (YYYY-MM-DD) | Version | Changed By | Change Description                  |\n",
    "| ----------------- | ------- | ---------- | ----------------------------------- |\n",
    "| 2022-04-22        | 2.3     | Lakshmi    | Made changes in markdown file       |\n",
    "| 2020-10-30        | 2.2     | Lakshmi    | Changed URL of csv                  |\n",
    "| 2020-09-09        | 2.1     | Lakshmi    | Updated Indicator Variables section |\n",
    "| 2020-08-27        | 2.0     | Lavanya    | Moved lab to course repo in GitLab  |\n",
    "\n",
    "<hr>\n",
    "\n",
    "## <h3 align=\"center\"> © IBM Corporation 2020. All rights reserved. <h3/>\n"
   ]
  },
  {
   "cell_type": "code",
   "execution_count": null,
   "metadata": {},
   "outputs": [],
   "source": []
  }
 ],
 "metadata": {
  "anaconda-cloud": {},
  "kernelspec": {
   "display_name": "Python 3 (ipykernel)",
   "language": "python",
   "name": "python3"
  },
  "language_info": {
   "codemirror_mode": {
    "name": "ipython",
    "version": 3
   },
   "file_extension": ".py",
   "mimetype": "text/x-python",
   "name": "python",
   "nbconvert_exporter": "python",
   "pygments_lexer": "ipython3",
   "version": "3.9.13"
  }
 },
 "nbformat": 4,
 "nbformat_minor": 4
}
