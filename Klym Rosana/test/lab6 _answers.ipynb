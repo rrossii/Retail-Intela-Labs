{
 "cells": [
  {
   "cell_type": "markdown",
   "metadata": {},
   "source": [
    "<center>\n",
    "    <img src=\"https://cf-courses-data.s3.us.cloud-object-storage.appdomain.cloud/assets/logos/SN_web_lightmode.png\" width=\"300\" alt=\"cognitiveclass.ai logo\">\n",
    "</center>\n",
    "\n",
    "# **French bakery daily sales**\n",
    "## **Lab 6. Sum up**\n",
    "\n",
    "Estimated time needed: **1** hour\n",
    "\n",
    "### **Context**\n",
    "The dataset belongs to a French bakery. The dataset provides the daily transaction details of customers from 2021-01-01 to 2022-09-30.\n",
    "Yearly and weekly saisonalities can be observed.\n",
    "\n",
    "### **Dataset Attributes**\n",
    "\n",
    "* date: date order\n",
    "* time: time order\n",
    "* ticket number: identifier for every single transaction\n",
    "* article: name of the product sold (in French)\n",
    "* quantity: quantity sold\n",
    "* unit_price: price per product in euros\n",
    "\n",
    "### **Target Field**\n",
    "*   Turnover\n",
    "\n",
    "### **Objectives**\n",
    "\n",
    "After completing this lab you will be able to:\n",
    "\n",
    "*   Be confident about your data analysis skills\n"
   ]
  },
  {
   "cell_type": "markdown",
   "metadata": {},
   "source": [
    "<div class=\"alert alert-block alert-info\" style=\"margin-top: 20px\">\n",
    "<h2>Table of Contents</h2>\n",
    "<ul>\n",
    "    <li><a href=\"#q1\">Question 1: Delete first column.</a></li>\n",
    "    <li><a href=\"#q2\">Question 2: Replace '_' symbols by spaces and capitalize headers.</a></li>\n",
    "    <li><a href=\"#q3\">Question 3: Identify missing values using .isnull()</a></li>\n",
    "    <li><a href=\"#q4\">Question 4: Check data types using .dtypes. If there are fields that seems to have not correct data type, use .astype() to change it.</a></li>\n",
    "    <li><a href=\"#q5\">Question 5: Calculate the total turnover (price * quantity) and add this column to your df.</a></li>\n",
    "    <li><a href=\"#q6\">Question 6: Output the most popular bakery.</a></li>\n",
    "    <li><a href=\"#q7\">Question 7: Output peak sales times (which types of baked goods sell best and worst at certain hour)</a></li>\n",
    "    <li><a href=\"#q8\">Question 8: Analyze correlation between numerical variables. Also build a correlation heatmap between numerical and non-numerical data.</a></li>\n",
    "    <li><a href=\"#q9\">Question 9: Make column \"Article\" numerical for further analysis.</a></li>\n",
    "    <li><a href=\"#q10\">Question 10: Determine if the turnover value is negatively or positively correlated with the quantity value</a></li>\n",
    "    <li><a href=\"#q11\">Question 11: Fit a linear regression model to predict the Turnover using the number of Quantity, split the data into training and testing and determine the 𝑅2 on the test data.</a></li>\n",
    "    <li><a href=\"#q12\">Question 12: Create a pipeline object that scales the data, performs a polynomial transform and fits a linear regression model. Fit the object using the training data you initialized before and use these columns for prediction: \"Quantity\", \"Article\" from test data, then calculate the R^2 using the test data.</a></li>\n",
    "    <li><a href=\"#q13\">Question 13: Make a plot that will visualize real turnover values from test data vs predicted turnover from test data (use predicted values from previous task).</a></li>\n",
    "    <li><a href=\"#q14\">Question 14: Perform a 2nd order polynomial transform on both the training data and testing data (\"Unit Price\" and \"Article\") using PolynomialFeatures() and fit_transform(). Create and fit a Ridge regression object using the training data and setting the regularization parameter (alpha) to 0.1. Calculate the 𝑅2 utilizing the test data provided.</a></li>\n",
    "    <li><a href=\"#q15\">Question 15: Make a plot that will visualize real turnover values from test data vs predicted turnover from test data (use predicted values from previous task, \"Unit Price\" and \"Article\").</a></li>\n",
    "</ul>\n",
    "</div>\n"
   ]
  },
  {
   "cell_type": "markdown",
   "metadata": {
    "jp-MarkdownHeadingCollapsed": true,
    "tags": []
   },
   "source": [
    "**Data Acquisition**\n",
    "<ul>\n",
    "    <li>Data source: <a href=\"https://www.kaggle.com/datasets/matthieugimbert/french-bakery-daily-sales\" target=\"_blank\">https://www.kaggle.com/datasets/tsmldata/retail-sales-dataset-2018-2022</a></li>\n",
    "    <li>Data type: csv</li>\n",
    "    <li>License: Data files © Original Authors<br></li>\n",
    "</ul>"
   ]
  },
  {
   "cell_type": "markdown",
   "metadata": {},
   "source": [
    "**Setup**"
   ]
  },
  {
   "cell_type": "markdown",
   "metadata": {},
   "source": [
    "If you run the lab locally using Anaconda, you can load the correct library and versions by uncommenting the following:"
   ]
  },
  {
   "cell_type": "code",
   "execution_count": null,
   "metadata": {},
   "outputs": [],
   "source": [
    "#install specific version of libraries used in lab\n",
    "#! mamba install pandas -y\n",
    "#! mamba install numpy -y\n",
    "#! mamba install scikit-learn -y"
   ]
  },
  {
   "cell_type": "markdown",
   "metadata": {},
   "source": [
    "You will need the following libraries:\n"
   ]
  },
  {
   "cell_type": "code",
   "execution_count": null,
   "metadata": {},
   "outputs": [],
   "source": [
    "import pandas as pd\n",
    "import numpy as np\n",
    "import matplotlib.pyplot as plt\n",
    "import seaborn as sns \n",
    "\n",
    "from sklearn.model_selection import train_test_split\n",
    "from sklearn.linear_model import LinearRegression\n",
    "from sklearn.pipeline import Pipeline\n",
    "from sklearn.preprocessing import StandardScaler, PolynomialFeatures\n",
    "from sklearn.preprocessing import OrdinalEncoder\n",
    "from sklearn.linear_model import Ridge"
   ]
  },
  {
   "cell_type": "markdown",
   "metadata": {},
   "source": [
    "<b>Importing the Data</b>\n"
   ]
  },
  {
   "cell_type": "markdown",
   "metadata": {},
   "source": [
    "You will need to download the dataset; if you are running locally, please comment out the following \n"
   ]
  },
  {
   "cell_type": "code",
   "execution_count": null,
   "metadata": {},
   "outputs": [],
   "source": [
    "path = 'https://cf-courses-data.s3.us.cloud-object-storage.appdomain.cloud/IBMSkillsNetwork-GPXX0DNNEN/Bakery%20sales.csv'"
   ]
  },
  {
   "cell_type": "markdown",
   "metadata": {},
   "source": [
    "If you are running locally and have downloaded dataset from data source above, run this:"
   ]
  },
  {
   "cell_type": "code",
   "execution_count": null,
   "metadata": {},
   "outputs": [],
   "source": [
    "# path = \"Bakery sales.csv\""
   ]
  },
  {
   "cell_type": "markdown",
   "metadata": {},
   "source": [
    "Load the csv and display the first 5 columns:"
   ]
  },
  {
   "cell_type": "code",
   "execution_count": null,
   "metadata": {
    "tags": []
   },
   "outputs": [],
   "source": [
    "df = pd.read_csv(path)\n",
    "df.head()"
   ]
  },
  {
   "cell_type": "markdown",
   "metadata": {},
   "source": [
    "<div id=\"q1\" class=\"alert alert-danger alertdanger\" style=\"margin-top: 20px\">\n",
    "  <b style=\"font-size: 2em; font-weight: bold;\">Question #1:</b>\n",
    "\n",
    "<b>We see that there is a first column that just repeats the ordinal column. Both mean ID for every sale done.\n",
    "So please delete this column using <code>.drop()</code></b>\n",
    "\n",
    "</div>"
   ]
  },
  {
   "cell_type": "code",
   "execution_count": null,
   "metadata": {},
   "outputs": [],
   "source": [
    "df = df.drop(df.columns[0], axis=1)\n",
    "df.head(5)"
   ]
  },
  {
   "cell_type": "markdown",
   "metadata": {},
   "source": [
    "<div id=\"q2\" class=\"alert alert-danger alertdanger\" style=\"margin-top: 20px\">\n",
    "  <b style=\"font-size: 2em; font-weight: bold;\">Question #2:</b>\n",
    "\n",
    "<b>Replace '_' symbols by spaces and capitalize headers.</b>\n",
    "\n",
    "</div>"
   ]
  },
  {
   "cell_type": "code",
   "execution_count": null,
   "metadata": {},
   "outputs": [],
   "source": [
    "df.columns = [col.replace(\"_\", \" \") for col in df.columns]\n",
    "df.columns = [col.title() for col in df.columns]\n",
    "df.head(5)"
   ]
  },
  {
   "cell_type": "markdown",
   "metadata": {},
   "source": [
    "<div id=\"q3\" class=\"alert alert-danger alertdanger\" style=\"margin-top: 20px\">\n",
    "  <b style=\"font-size: 2em; font-weight: bold;\">Question #3:</b>\n",
    "\n",
    "<b>Identify missing values using <code>.isnull()</code>(\"False\" means that there is no missing value) and assign it to \"missing_data\" variable. Next, figure out the number of missing values in each column using <code>value_counts()</code> (do it in for loop).</b>\n",
    "\n",
    "</div>"
   ]
  },
  {
   "cell_type": "code",
   "execution_count": null,
   "metadata": {},
   "outputs": [],
   "source": [
    "missing_data = df.isnull()\n",
    "missing_data.head(5)"
   ]
  },
  {
   "cell_type": "code",
   "execution_count": null,
   "metadata": {},
   "outputs": [],
   "source": [
    "for column in missing_data.columns.values.tolist():\n",
    "    print(column)\n",
    "    print(missing_data[column].value_counts())\n",
    "    print(\"\")    "
   ]
  },
  {
   "cell_type": "markdown",
   "metadata": {},
   "source": [
    "**Check youself:** each column has 234005 rows of data and there are no columns that contain missing data."
   ]
  },
  {
   "cell_type": "markdown",
   "metadata": {},
   "source": [
    "<div id=\"q4\" class=\"alert alert-danger alertdanger\" style=\"margin-top: 20px\">\n",
    "  <b style=\"font-size: 2em; font-weight: bold;\">Question #4:</b>\n",
    "\n",
    "<b>Check data types using <code>.dtypes</code>. If there are fields that seems to have not correct data type, use <code>.astype()</code> to change it.</b>\n",
    "\n",
    "</div>"
   ]
  },
  {
   "cell_type": "markdown",
   "metadata": {},
   "source": [
    "**Notes:**\n",
    "* You need to change type of \"Date\" and \"Time\" to datetime type using <code>.to_datetime()</code> Don't worry if you'll see not only hour and minute values but also year, month and day in \"Time\" column. \n",
    "\n",
    "* Also \"Article\" should be a categorical variable. \n",
    "\n",
    "* \"Unit Price\" must be a float type, but before changing it, you need to replace \",\" with \".\", \"€\" with an empty string (\"\") so that it will successfully become a float type."
   ]
  },
  {
   "cell_type": "code",
   "execution_count": null,
   "metadata": {},
   "outputs": [],
   "source": [
    "df.dtypes"
   ]
  },
  {
   "cell_type": "markdown",
   "metadata": {},
   "source": [
    "* **Convert data type of \"Date\" and \"Time\" columns**</br>"
   ]
  },
  {
   "cell_type": "code",
   "execution_count": null,
   "metadata": {},
   "outputs": [],
   "source": [
    "df[\"Date\"] = pd.to_datetime(df[\"Date\"], format = \"%Y-%m-%d\")\n",
    "df[\"Time\"] = pd.to_datetime(df[\"Time\"])"
   ]
  },
  {
   "cell_type": "markdown",
   "metadata": {},
   "source": [
    "* **Convert data type of \"Article\" column**</br>"
   ]
  },
  {
   "cell_type": "code",
   "execution_count": null,
   "metadata": {},
   "outputs": [],
   "source": [
    "df[[\"Article\"]] = df[[\"Article\"]].astype(\"category\")"
   ]
  },
  {
   "cell_type": "markdown",
   "metadata": {},
   "source": [
    "* **Convert data type of \"Unit Price\" column**</br>"
   ]
  },
  {
   "cell_type": "code",
   "execution_count": null,
   "metadata": {},
   "outputs": [],
   "source": [
    "df[\"Unit Price\"] = [price.replace(\"€\", \"\").replace(\" \", \"\").replace(\",\", \".\") for price in df[\"Unit Price\"]]\n",
    "df[[\"Unit Price\"]] = df[[\"Unit Price\"]].astype(\"float\")"
   ]
  },
  {
   "cell_type": "code",
   "execution_count": null,
   "metadata": {},
   "outputs": [],
   "source": [
    "df.dtypes"
   ]
  },
  {
   "cell_type": "markdown",
   "metadata": {},
   "source": [
    "<div id=\"q5\" class=\"alert alert-danger alertdanger\" style=\"margin-top: 20px\">\n",
    "  <b style=\"font-size: 2em; font-weight: bold;\">Question #5:</b>\n",
    "\n",
    "<b>Calculate the total turnover (price * quantity) and add this column to your df.</b>\n",
    "\n",
    "</div>"
   ]
  },
  {
   "cell_type": "code",
   "execution_count": null,
   "metadata": {},
   "outputs": [],
   "source": [
    "df[\"Turnover\"] = df[\"Unit Price\"] * df[\"Quantity\"]\n",
    "df.head(5)"
   ]
  },
  {
   "cell_type": "markdown",
   "metadata": {},
   "source": [
    "<div id=\"q6\" class=\"alert alert-danger alertdanger\" style=\"margin-top: 20px\">\n",
    "  <b style=\"font-size: 2em; font-weight: bold;\">Question #6:</b>\n",
    "\n",
    "<b>Use the method <code>groupby</code> to group and analyze the turnover values per type of bakery (\"Article\") (save result of grouping to new dataframe (for better visualization use <code>.to_frame()</code>)).</b>\n",
    "\n",
    "<b>Output the most popular bakery.</b>\n",
    "\n",
    "</div>\n"
   ]
  },
  {
   "cell_type": "markdown",
   "metadata": {},
   "source": [
    "**Hint:** to choose the most popular bakery you can sort turnover values after grouping using <code>sort_values()</code>. Remember to reassign dataframe: df1 = df1.sort_values(...) "
   ]
  },
  {
   "cell_type": "code",
   "execution_count": null,
   "metadata": {},
   "outputs": [],
   "source": [
    "df1 = df.groupby(\"Article\")[\"Turnover\"].sum().to_frame()\n",
    "df1"
   ]
  },
  {
   "cell_type": "code",
   "execution_count": null,
   "metadata": {},
   "outputs": [],
   "source": [
    "df1 = df1.sort_values(\"Turnover\", ascending=[False])\n",
    "df1"
   ]
  },
  {
   "cell_type": "markdown",
   "metadata": {},
   "source": [
    "**Check yourself:** the most popular is \"TRADITIONAL BAGUETTE\"."
   ]
  },
  {
   "cell_type": "markdown",
   "metadata": {},
   "source": [
    "<div id=\"q7\" class=\"alert alert-danger alertdanger\" style=\"margin-top: 20px\">\n",
    "  <b style=\"font-size: 2em; font-weight: bold;\">Question #7:</b>\n",
    "\n",
    "<b>Output peak sales times (which types of baked goods sell best and worst at certain hour)</b>\n",
    "\n",
    "</div>"
   ]
  },
  {
   "cell_type": "markdown",
   "metadata": {},
   "source": [
    "**Notes:** firstly, work with only hour value in the \"Time\" field. You can get it using <code>.dt.hour</code> and assign it to new column \"Hour\"."
   ]
  },
  {
   "cell_type": "code",
   "execution_count": null,
   "metadata": {},
   "outputs": [],
   "source": [
    "df[\"Hour\"] = df[\"Time\"].dt.hour\n",
    "df.head(5)"
   ]
  },
  {
   "cell_type": "code",
   "execution_count": null,
   "metadata": {},
   "outputs": [],
   "source": [
    "df2 = df.groupby(\"Hour\")[\"Turnover\"].sum().to_frame()\n",
    "df2"
   ]
  },
  {
   "cell_type": "code",
   "execution_count": null,
   "metadata": {},
   "outputs": [],
   "source": [
    "df2 = df2.sort_values(\"Turnover\", ascending=[False])\n",
    "df2"
   ]
  },
  {
   "cell_type": "markdown",
   "metadata": {},
   "source": [
    "**Check yourself:** the most popular hour is 11, and the less popular - 20."
   ]
  },
  {
   "cell_type": "markdown",
   "metadata": {},
   "source": [
    "<div id=\"q8\" class=\"alert alert-danger alertdanger\" style=\"margin-top: 20px\">\n",
    "  <b style=\"font-size: 2em; font-weight: bold;\">Question #8:</b>\n",
    "\n",
    "<b>Use <code>.corr()</code> method for analyzing correlation between numerical variables. Also build a correlation heatmap between numerical and non-numerical data using <code>associations</code> and <code>OrdinalEncoder</code> from dython and sklearn libaries.</b>\n",
    "\n",
    "</div>"
   ]
  },
  {
   "cell_type": "code",
   "execution_count": null,
   "metadata": {},
   "outputs": [],
   "source": [
    "df.corr()"
   ]
  },
  {
   "cell_type": "code",
   "execution_count": null,
   "metadata": {},
   "outputs": [],
   "source": [
    "from dython.nominal import associations\n",
    "from sklearn.preprocessing import OrdinalEncoder\n",
    "\n",
    "enc = OrdinalEncoder()\n",
    "df1 = df[df.columns]\n",
    "df1[df1.columns] = enc.fit_transform(df1)\n",
    "\n",
    "fig, ax = plt.subplots(figsize=(14, 8))\n",
    "r = associations(df1, ax=ax, cmap=\"Blues\")\n"
   ]
  },
  {
   "cell_type": "markdown",
   "metadata": {},
   "source": [
    "<div id=\"q9\" class=\"alert alert-danger alertdanger\" style=\"margin-top: 20px\">\n",
    "  <b style=\"font-size: 2em; font-weight: bold;\">Question #9:</b>\n",
    "\n",
    "<b>Use the functions <code>OrdinalEncoder()</code> and <code>fit_transform()</code> to make column \"Article\" numerical for further analysis.</b>\n",
    "\n",
    "</div> "
   ]
  },
  {
   "cell_type": "code",
   "execution_count": null,
   "metadata": {},
   "outputs": [],
   "source": [
    "enc = OrdinalEncoder()\n",
    "df[\"Article\"] = enc.fit_transform(df[[\"Article\"]])"
   ]
  },
  {
   "cell_type": "markdown",
   "metadata": {},
   "source": [
    "<div id=\"q10\" class=\"alert alert-danger alertdanger\" style=\"margin-top: 20px\">\n",
    "  <b style=\"font-size: 2em; font-weight: bold;\">Question #10:</b>\n",
    "\n",
    "<b>Use the function <code>regplot</code> in the seaborn library to determine if the turnover value is\n",
    "negatively or positively correlated with the quantity value.</b>\n",
    "\n",
    "</div> "
   ]
  },
  {
   "cell_type": "code",
   "execution_count": null,
   "metadata": {},
   "outputs": [],
   "source": [
    "sns.regplot(x=\"Turnover\", y=\"Quantity\", data=df)"
   ]
  },
  {
   "cell_type": "markdown",
   "metadata": {},
   "source": [
    "**Check yourself:** turnover value is positively correlated with the quantity."
   ]
  },
  {
   "cell_type": "markdown",
   "metadata": {},
   "source": [
    "<div id=\"q11\" class=\"alert alert-danger alertdanger\" style=\"margin-top: 20px\">\n",
    "  <b style=\"font-size: 2em; font-weight: bold;\">Question #11:</b>\n",
    "\n",
    "<b>Fit a linear regression model to predict the <code>Turnover</code> using the number of <code>Quantity</code>, split the data into training and testing and determine the $R^2$ on the test data:</b>\n",
    "\n",
    "</div> \n"
   ]
  },
  {
   "cell_type": "markdown",
   "metadata": {},
   "source": [
    "Don't forget to drop \"turnover\" column using <code>.drop()</code> while you initiate x_data (x_data are all columns besides \"turnover\" (because this is our target field))."
   ]
  },
  {
   "cell_type": "code",
   "execution_count": null,
   "metadata": {},
   "outputs": [],
   "source": [
    "x_data = df.drop(\"Turnover\", axis=1)\n",
    "y_data = df[\"Turnover\"]\n",
    "\n",
    "lm = LinearRegression()\n",
    "x_train, x_test, y_train, y_test = train_test_split(x_data, y_data, test_size=0.1, random_state=0)\n",
    "\n",
    "lm.fit(x_train[[\"Quantity\"]], y_train)\n",
    "lm.score(x_test[[\"Quantity\"]], y_test)"
   ]
  },
  {
   "cell_type": "markdown",
   "metadata": {},
   "source": [
    "<br>\n",
    "<b>Note:</b> Please use <code>test_size = 0.10</code> and <code>random_state = 0</code> in the following questions.\n"
   ]
  },
  {
   "cell_type": "markdown",
   "metadata": {},
   "source": [
    "**Check yourself:** r-score is equal to 0.272"
   ]
  },
  {
   "cell_type": "markdown",
   "metadata": {},
   "source": [
    "<div id=\"q12\" class=\"alert alert-danger alertdanger\" style=\"margin-top: 20px\">\n",
    "  <b style=\"font-size: 2em; font-weight: bold;\">Question #12:</b>\n",
    "\n",
    "<b>Create a pipeline object that scales the data, performs a polynomial transform and fits a linear regression model. Fit the object using the training data you initialized before and use these columns for prediction: \"Quantity\", \"Article\" from test data, then calculate the R^2 using the test data (use <code>r2_score()</code>). </b>\n",
    "\n",
    "<b>There are some hints in the notebook:</b>\n",
    "\n",
    "</div> \n"
   ]
  },
  {
   "cell_type": "markdown",
   "metadata": {},
   "source": [
    "<code>'scale'</code>\n",
    "\n",
    "<code>'polynomial'</code>\n",
    "\n",
    "<code>'model'</code>\n",
    "\n",
    "The second element in the tuple contains the model constructor\n",
    "\n",
    "<code>StandardScaler()</code>\n",
    "\n",
    "<code>PolynomialFeatures(include_bias=False)</code>\n",
    "\n",
    "<code>LinearRegression()</code>\n"
   ]
  },
  {
   "cell_type": "code",
   "execution_count": null,
   "metadata": {},
   "outputs": [],
   "source": [
    "# create pipeline, fit model and predict\n",
    "Input = [(\"scale\", StandardScaler()), (\"polynomial\", PolynomialFeatures(include_bias=False)), (\"model\", LinearRegression())]\n",
    "pipe_model = Pipeline(Input)\n",
    "pipe_model.fit(x_train[[\"Quantity\", \"Article\"]], y_train)\n",
    "\n",
    "y_hat_pipe_test = pipe_model.predict(x_test[[\"Quantity\", \"Article\"]])\n",
    "y_hat_pipe_test"
   ]
  },
  {
   "cell_type": "code",
   "execution_count": null,
   "metadata": {},
   "outputs": [],
   "source": [
    "from sklearn.metrics import r2_score\n",
    "\n",
    "# calculate r2score\n",
    "r2_score(y_test, y_hat_pipe_test)"
   ]
  },
  {
   "cell_type": "code",
   "execution_count": null,
   "metadata": {},
   "outputs": [],
   "source": [
    "print(\"Predicted values:\", y_test[0:4].values)\n",
    "print(\"True values:\", y_hat_pipe_test[0:4])"
   ]
  },
  {
   "cell_type": "markdown",
   "metadata": {},
   "source": [
    "**Check yourself:** r-score is 0.329"
   ]
  },
  {
   "cell_type": "markdown",
   "metadata": {},
   "source": [
    "<div id=\"q13\" class=\"alert alert-danger alertdanger\" style=\"margin-top: 20px\">\n",
    "  <b style=\"font-size: 2em; font-weight: bold;\">Question #13:</b>\n",
    "    \n",
    "  <b>Make a plot that will visualize real turnover values from test data vs predicted turnover from test data (use predicted values from previous task). You can use <code>.plot()</code> function from matplotlib.pyplot</b>  \n",
    "    \n",
    "</div> \n"
   ]
  },
  {
   "cell_type": "code",
   "execution_count": null,
   "metadata": {},
   "outputs": [],
   "source": [
    "plt.figure(figsize=(8, 6))\n",
    "\n",
    "plt.title(\"Predicted data using testing data vs real value using testing data\")\n",
    "plt.xlabel(\"X\")\n",
    "plt.ylabel(\"Turnover (Y)\")\n",
    "\n",
    "\n",
    "y_test.plot()\n",
    "plt.plot(y_test.index, y_hat_pipe_test)"
   ]
  },
  {
   "cell_type": "markdown",
   "metadata": {},
   "source": [
    "<div id=\"q14\" class=\"alert alert-danger alertdanger\" style=\"margin-top: 20px\">\n",
    "  <b style=\"font-size: 2em; font-weight: bold;\">Question #14:</b>\n",
    "    \n",
    "  <b>Perform a 2nd order polynomial transform on both the training data and testing data (\"Unit Price\" and \"Article\") using <code>PolynomialFeatures()</code> and <code>fit_transform()</code>. Create and fit a Ridge regression object using the training data and setting the regularization parameter (alpha) to 0.1. Calculate the $R^{2}$ utilizing the test data provided.</b>\n",
    "</div> "
   ]
  },
  {
   "cell_type": "code",
   "execution_count": null,
   "metadata": {},
   "outputs": [],
   "source": [
    "pr = PolynomialFeatures(degree=2)\n",
    "x_train_pr = pr.fit_transform(x_train[[\"Unit Price\", \"Article\"]])\n",
    "x_test_pr = pr.fit_transform(x_test[[\"Unit Price\", \"Article\"]])\n",
    "\n",
    "ridge_model = Ridge(alpha=1)\n",
    "ridge_model.fit(x_train_pr, y_train)\n",
    "\n",
    "y_hat_test_pr = ridge_model.predict(x_test_pr)\n",
    "y_hat_test_pr"
   ]
  },
  {
   "cell_type": "code",
   "execution_count": null,
   "metadata": {},
   "outputs": [],
   "source": [
    "print(\"Predicted values:\", y_test[0:4].values)\n",
    "print(\"True values:\", y_hat_test_pr[0:4])"
   ]
  },
  {
   "cell_type": "code",
   "execution_count": null,
   "metadata": {},
   "outputs": [],
   "source": [
    "ridge_model.score(x_test_pr, y_test)"
   ]
  },
  {
   "cell_type": "markdown",
   "metadata": {},
   "source": [
    "**Check yourself:** r-score is 0.536."
   ]
  },
  {
   "cell_type": "markdown",
   "metadata": {},
   "source": [
    "<div id=\"q15\" class=\"alert alert-danger alertdanger\" style=\"margin-top: 20px\">\n",
    "  <b style=\"font-size: 2em; font-weight: bold;\">Question #15:</b>\n",
    "    \n",
    "  <b>Make a plot that will visualize real turnover values from test data vs predicted turnover from test data (use predicted values from previous task, \"Unit Price\" and \"Article\"). You can use <code>.plot()</code> function from matplotlib.pyplot or any other you want (for example, distplot()).</b>\n",
    "</div> "
   ]
  },
  {
   "cell_type": "code",
   "execution_count": null,
   "metadata": {},
   "outputs": [],
   "source": [
    "plt.figure(figsize=(8, 6))\n",
    "\n",
    "plt.title(\"Predicted data using testing data vs real value using testing data\")\n",
    "plt.xlabel(\"X\")\n",
    "plt.ylabel(\"Turnover (Y)\")\n",
    "\n",
    "\n",
    "y_test.plot()\n",
    "plt.plot(y_test.index, y_hat_test_pr)"
   ]
  },
  {
   "cell_type": "markdown",
   "metadata": {},
   "source": [
    "<a href=\"https://dataplatform.cloud.ibm.com/docs/content/wsj/analyze-data/share-notebooks.html/?utm_medium=Exinfluencer&utm_source=Exinfluencer&utm_content=000026UJ&utm_term=10006555&utm_id=NA-SkillsNetwork-Channel-SkillsNetworkCoursesIBMDeveloperSkillsNetworkDA0101ENSkillsNetwork20235326-2021-01-01\"> CLICK HERE</a> to see how to share your notebook\n"
   ]
  },
  {
   "cell_type": "markdown",
   "metadata": {},
   "source": [
    "### Thank you for completing this lab!\n",
    "\n",
    "## Authors\n",
    "\n",
    "<a href=\"https://author.skills.network/instructors/rosana_klym\">Rosana Klym</a>\n",
    "\n",
    "<a href=\"https://author.skills.network/instructors/yaroslav_vyklyuk_2\">Yaroslav Vyklyuk</a>\n",
    "\n",
    "<a href=\"https://author.skills.network/instructors/olga_kavun\">Olga Kavun</a>\n",
    "\n",
    "## Change Log\n",
    "\n",
    "| Date (YYYY-MM-DD) | Version | Changed By | Change Description                 |\n",
    "| ----------------- | ------- | ---------- | ---------------------------------- |\n",
    "\n",
    "\n",
    "<hr>\n",
    "\n",
    "## <h3 align=\"center\"> © IBM Corporation 2023. All rights reserved. <h3/>\n"
   ]
  }
 ],
 "metadata": {
  "kernelspec": {
   "display_name": "Python 3 (ipykernel)",
   "language": "python",
   "name": "python3"
  },
  "language_info": {
   "codemirror_mode": {
    "name": "ipython",
    "version": 3
   },
   "file_extension": ".py",
   "mimetype": "text/x-python",
   "name": "python",
   "nbconvert_exporter": "python",
   "pygments_lexer": "ipython3",
   "version": "3.9.13"
  }
 },
 "nbformat": 4,
 "nbformat_minor": 4
}
