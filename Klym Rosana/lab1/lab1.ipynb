{
 "cells": [
  {
   "cell_type": "markdown",
   "id": "dab33b78-ca03-4bbe-8f69-19bbf634c0fc",
   "metadata": {},
   "source": [
    "<center>\n",
    "    <img src=\"https://cf-courses-data.s3.us.cloud-object-storage.appdomain.cloud/assets/logos/SN_web_lightmode.png\" width=\"300\" alt=\"cognitiveclass.ai logo\"  />\n",
    "</center>\n",
    "\n",
    "# **Retail Sales Dataset 2018-2022**\n",
    "## **Lab 1. Loading the dataset**\n",
    "Estimated time needed: **10** minutes\n",
    "\n",
    "### **Context**\n",
    "This dataset contains historical sales data. It was extracted from a global retail company. The data was transformed to protect the identity of the company.\n",
    "The dataset is built from the initial dataset consisted of data collected in 5 years (period 2018-2022), indicating date, product and sales month. \n",
    "The goal is to load the dataset into your machine and familiarize yourself with the content using Python.\n",
    "\n",
    "### **Dataset Attributes**\n",
    "*   Date: year and month\n",
    "*   SKU: unique code consisting of letters and numbers that identify each product\n",
    "*   Group: group of related products which share some common attributes\n",
    "*   Units Pkg: package weight (kg)\n",
    "*   Avg Price Pkg: average price per package\n",
    "*   Sales Pkg: total package sales per month\n",
    "\n",
    "### **Target Field**\n",
    "*   Turnover per month\n",
    "### **Objectives**\n",
    "\n",
    "After completing this lab you will be able to:\n",
    "\n",
    "*   Acquire data in various ways\n",
    "*   Obtain insights from data with Pandas library\n"
   ]
  },
  {
   "cell_type": "markdown",
   "id": "ef641ec7-0809-431e-94f1-ef08e99c3f79",
   "metadata": {},
   "source": [
    "<h2>Table of Contents</h2>\n",
    "\n",
    "<div class=\"alert alert-block alert-info\" style=\"margin-top: 20px\">\n",
    "<ol>\n",
    "    <li><a href=\"https://#data_acquisition\">Data Acquisition</a>\n",
    "    <li><a href=\"https://#basic_insight\">Basic Insight of Dataset</a></li>\n",
    "</ol>\n",
    "\n",
    "</div>\n",
    "<hr>\n"
   ]
  },
  {
   "cell_type": "markdown",
   "id": "73157b18-33d4-4e95-81e9-de4755fb8f4a",
   "metadata": {},
   "source": [
    "## **Data Acquisition**\n",
    "<p>There are various formats for a dataset: .csv, .json, .xlsx  etc. The dataset can be stored in different places, on your local machine or sometimes online.<br>\n",
    "\n",
    "In this section, you will learn how to load a dataset into our Jupyter Notebook.<br>\n",
    "\n",
    "In our case, the Automobile Dataset is an online source, and it is in a CSV (comma separated value) format. Let's use this dataset as an example to practice data reading.\n",
    "\n",
    "<ul>\n",
    "    <li>Data source: <a href=\"https://www.kaggle.com/datasets/tsmldata/retail-sales-dataset-2018-2022\" target=\"_blank\">https://www.kaggle.com/datasets/tsmldata/retail-sales-dataset-2018-2022</a></li>\n",
    "    <li>Data type: csv</li>\n",
    "    <li>License: <a href=\"https://creativecommons.org/publicdomain/zero/1.0/\">https://creativecommons.org/publicdomain/zero/1.0/</a><br>\n",
    "    You can copy, modify, distribute and perform the work, even for commercial purposes, all without asking permission.</li>\n",
    "</ul>\n",
    "The Pandas Library is a useful tool that enables us to read various datasets into a dataframe; our Jupyter notebook platforms have a built-in <b>Pandas Library</b> so that all we need to do is import Pandas without installing.\n",
    "</p>\n"
   ]
  },
  {
   "cell_type": "markdown",
   "id": "ced5150c-400b-4881-9a37-8edeed80e258",
   "metadata": {},
   "source": [
    "If you run the lab locally using Anaconda, you can load the correct library and versions by uncommenting the following:\n"
   ]
  },
  {
   "cell_type": "code",
   "execution_count": 1,
   "id": "03b68a9c-6636-4e94-939f-d488e1ded31a",
   "metadata": {},
   "outputs": [],
   "source": [
    "#install specific version of libraries used in  lab\n",
    "#! mamba install pandas==1.3.3  -y\n",
    "#! mamba install numpy=1.21.2 -y"
   ]
  },
  {
   "cell_type": "code",
   "execution_count": 1,
   "id": "3eb73ec5-eb71-4c44-a8d5-7cace6173ace",
   "metadata": {},
   "outputs": [],
   "source": [
    "# import pandas library\n",
    "import pandas as pd\n",
    "import numpy as np"
   ]
  },
  {
   "cell_type": "markdown",
   "id": "aed1e25c-4d48-4b59-93d0-a1df79818190",
   "metadata": {},
   "source": [
    "## **Read Data**\n",
    "<p>We use <code>pandas.read_csv()</code> function to read the csv file. In the brackets, we put the file path along with a quotation mark so that pandas will read the file into a dataframe from that address. The file path can be either an URL or your local file address.<br>\n",
    "\n",
    "Because the data does not include headers, we can add an argument <code>headers = None</code> inside the <code>read_csv()</code> method so that pandas will not automatically set the first row as a header.<br>\n",
    "\n",
    "You can also assign the dataset to any variable you create.\n",
    "\n",
    "</p>\n"
   ]
  },
  {
   "cell_type": "code",
   "execution_count": 2,
   "id": "1a747bb9-4d9a-4162-8233-2a056840cc40",
   "metadata": {},
   "outputs": [],
   "source": [
    "path = \"https://cf-courses-data.s3.us.cloud-object-storage.appdomain.cloud/IBMSkillsNetwork-GPXX03NFEN/sales_1.csv\""
   ]
  },
  {
   "cell_type": "markdown",
   "id": "e41d6a98-ca27-4d94-bbe8-c73556bc6ec4",
   "metadata": {},
   "source": [
    "This dataset was hosted on IBM Cloud object. Click <a href=\"https://cocl.us/DA101EN_object_storage?utm_medium=Exinfluencer&utm_source=Exinfluencer&utm_content=000026UJ&utm_term=10006555&utm_id=NA-SkillsNetwork-Channel-SkillsNetworkCoursesIBMDeveloperSkillsNetworkDA0101ENSkillsNetwork20235326-2021-01-01\">HERE</a> for free storage.\n"
   ]
  },
  {
   "cell_type": "code",
   "execution_count": 3,
   "id": "0621e553-e617-4b4a-af45-c78270a5b8c2",
   "metadata": {},
   "outputs": [],
   "source": [
    "# Read the online file by the URL provides above, and assign it to variable \"df\"\n",
    "df = pd.read_csv(path)"
   ]
  },
  {
   "cell_type": "markdown",
   "id": "ccb621d1-5848-40db-b26b-067806198aa8",
   "metadata": {},
   "source": [
    "After reading the dataset, we can use the <code>dataframe.head(n)</code> method to check the top n rows of the dataframe, where n is an integer. Contrary to <code>dataframe.head(n)</code>, <code>dataframe.tail(n)</code> will show you the bottom n rows of the dataframe.\n"
   ]
  },
  {
   "cell_type": "code",
   "execution_count": 7,
   "id": "60e876a6-4fe7-4923-a20f-b5456f033723",
   "metadata": {},
   "outputs": [
    {
     "name": "stdout",
     "output_type": "stream",
     "text": [
      "The first 5 rows of the dataframe\n"
     ]
    },
    {
     "data": {
      "text/html": [
       "<div>\n",
       "<style scoped>\n",
       "    .dataframe tbody tr th:only-of-type {\n",
       "        vertical-align: middle;\n",
       "    }\n",
       "\n",
       "    .dataframe tbody tr th {\n",
       "        vertical-align: top;\n",
       "    }\n",
       "\n",
       "    .dataframe thead th {\n",
       "        text-align: right;\n",
       "    }\n",
       "</style>\n",
       "<table border=\"1\" class=\"dataframe\">\n",
       "  <thead>\n",
       "    <tr style=\"text-align: right;\">\n",
       "      <th></th>\n",
       "      <th>Date</th>\n",
       "      <th>SKU</th>\n",
       "      <th>Group</th>\n",
       "      <th>Units_pkg</th>\n",
       "      <th>Avg_price_pkg</th>\n",
       "      <th>Sales_pkg</th>\n",
       "    </tr>\n",
       "  </thead>\n",
       "  <tbody>\n",
       "    <tr>\n",
       "      <th>0</th>\n",
       "      <td>201801</td>\n",
       "      <td>SKU_01</td>\n",
       "      <td>A</td>\n",
       "      <td>13</td>\n",
       "      <td>5</td>\n",
       "      <td>879</td>\n",
       "    </tr>\n",
       "    <tr>\n",
       "      <th>1</th>\n",
       "      <td>201801</td>\n",
       "      <td>SKU_02</td>\n",
       "      <td>B</td>\n",
       "      <td>7</td>\n",
       "      <td>7</td>\n",
       "      <td>8</td>\n",
       "    </tr>\n",
       "    <tr>\n",
       "      <th>2</th>\n",
       "      <td>201801</td>\n",
       "      <td>SKU_03</td>\n",
       "      <td>B</td>\n",
       "      <td>7</td>\n",
       "      <td>6</td>\n",
       "      <td>197</td>\n",
       "    </tr>\n",
       "    <tr>\n",
       "      <th>3</th>\n",
       "      <td>201801</td>\n",
       "      <td>SKU_04</td>\n",
       "      <td>C</td>\n",
       "      <td>4</td>\n",
       "      <td>6</td>\n",
       "      <td>1</td>\n",
       "    </tr>\n",
       "    <tr>\n",
       "      <th>4</th>\n",
       "      <td>201801</td>\n",
       "      <td>SKU_05</td>\n",
       "      <td>C</td>\n",
       "      <td>6</td>\n",
       "      <td>8</td>\n",
       "      <td>1</td>\n",
       "    </tr>\n",
       "  </tbody>\n",
       "</table>\n",
       "</div>"
      ],
      "text/plain": [
       "     Date     SKU Group  Units_pkg  Avg_price_pkg  Sales_pkg\n",
       "0  201801  SKU_01     A         13              5        879\n",
       "1  201801  SKU_02     B          7              7          8\n",
       "2  201801  SKU_03     B          7              6        197\n",
       "3  201801  SKU_04     C          4              6          1\n",
       "4  201801  SKU_05     C          6              8          1"
      ]
     },
     "execution_count": 7,
     "metadata": {},
     "output_type": "execute_result"
    }
   ],
   "source": [
    "# show the first 5 rows using dataframe.head() method\n",
    "print(\"The first 5 rows of the dataframe\") \n",
    "df.head(5)"
   ]
  },
  {
   "cell_type": "markdown",
   "id": "c2e04f01-2e77-4246-aa7c-c82cd2a78ed6",
   "metadata": {},
   "source": [
    "<div class=\"alert alert-danger alertdanger\" style=\"margin-top: 20px\">\n",
    "<h1> Question #1: </h1>\n",
    "<b>Check the bottom 10 rows of data frame \"df\".</b>\n",
    "</div>\n"
   ]
  },
  {
   "cell_type": "code",
   "execution_count": 6,
   "id": "4b423535-7b0d-48aa-b832-29328ccb3358",
   "metadata": {},
   "outputs": [],
   "source": [
    "# Write your code below and press Shift+Enter to execute \n"
   ]
  },
  {
   "cell_type": "markdown",
   "id": "e31c65b4-c744-420a-9322-84e6b2b9bcb6",
   "metadata": {},
   "source": [
    "<details><summary>Click here for the solution</summary>\n",
    "\n",
    "```python\n",
    "print(\"The last 10 rows of the dataframe\\n\")\n",
    "df.tail(10)\n",
    "```\n"
   ]
  },
  {
   "cell_type": "markdown",
   "id": "ac67aedb-06f4-4bed-a67b-80cb58c32acc",
   "metadata": {},
   "source": [
    "Sometimes dataset may contain null values, so it's worth check this. We can do this this way:"
   ]
  },
  {
   "cell_type": "code",
   "execution_count": 7,
   "id": "56bc6792-2c66-4851-8150-8e3622b9a516",
   "metadata": {},
   "outputs": [
    {
     "name": "stdout",
     "output_type": "stream",
     "text": [
      "Date             0\n",
      "SKU              0\n",
      "Group            0\n",
      "Units_pkg        0\n",
      "Avg_price_pkg    0\n",
      "Sales_pkg        0\n",
      "dtype: int64\n"
     ]
    }
   ],
   "source": [
    "print(df.isnull().sum())"
   ]
  },
  {
   "cell_type": "markdown",
   "id": "54ba0e6a-eecf-40d0-ab6b-252391dc6e53",
   "metadata": {},
   "source": [
    "As we can observe, there are not null values in our dataset. Everything is stored in a proper way."
   ]
  },
  {
   "cell_type": "markdown",
   "id": "d5e2c8cc-c7a1-4fb0-9806-c9b4a1d2fde1",
   "metadata": {},
   "source": [
    " <div class=\"alert alert-danger alertdanger\" style=\"margin-top: 20px\">\n",
    "<h1> Question #2: </h1>\n",
    "<b>Find the name of the columns of the dataframe.</b>\n",
    "</div>\n"
   ]
  },
  {
   "cell_type": "code",
   "execution_count": 8,
   "id": "a4606214-957e-4c3e-97e3-b03e9a7c76ce",
   "metadata": {},
   "outputs": [],
   "source": [
    "# Write your code below and press Shift+Enter to execute \n"
   ]
  },
  {
   "cell_type": "markdown",
   "id": "f3d11d3f-cb57-45df-a832-8e76b25bc776",
   "metadata": {},
   "source": [
    "<details><summary>Click here for the solution</summary>\n",
    "\n",
    "```python\n",
    "print(df.columns)\n",
    "```\n",
    "\n",
    "</details>\n"
   ]
  },
  {
   "cell_type": "markdown",
   "id": "6af0f07b-9633-4d16-8949-0becd69b9094",
   "metadata": {},
   "source": [
    "## **Modify Headers**\n",
    "<p>We can modify our headers. Let's do this.<br>\n",
    "First, we print our headers by command <code>print(df.columns)</code></p>\n"
   ]
  },
  {
   "cell_type": "code",
   "execution_count": 9,
   "id": "ff963e7d-f9bd-4225-b0e2-c24ec32cf40b",
   "metadata": {},
   "outputs": [
    {
     "name": "stdout",
     "output_type": "stream",
     "text": [
      "Index(['Date', 'SKU', 'Group', 'Units_pkg', 'Avg_price_pkg', 'Sales_pkg'], dtype='object')\n"
     ]
    }
   ],
   "source": [
    "# print headers list\n",
    "print(df.columns)"
   ]
  },
  {
   "cell_type": "markdown",
   "id": "7edb28e7-f7bf-4d1b-b8ea-c193bf3177cb",
   "metadata": {},
   "source": [
    "<p>We want to get rid of underscores. To do this we can use method <code>replace()</code></p>\n"
   ]
  },
  {
   "cell_type": "code",
   "execution_count": 10,
   "id": "b4487d0b-a916-43ec-bd85-2b186a655eb2",
   "metadata": {},
   "outputs": [],
   "source": [
    "df.columns = [col.replace(\"_\", \" \") for col in df.columns]"
   ]
  },
  {
   "cell_type": "code",
   "execution_count": 11,
   "id": "2d59b606-8ca0-4c6e-82e6-e667a951c423",
   "metadata": {},
   "outputs": [
    {
     "name": "stdout",
     "output_type": "stream",
     "text": [
      "Index(['Date', 'SKU', 'Group', 'Units pkg', 'Avg price pkg', 'Sales pkg'], dtype='object')\n"
     ]
    }
   ],
   "source": [
    "print(df.columns)"
   ]
  },
  {
   "cell_type": "markdown",
   "id": "7157f7da-ea31-433d-9f20-c6cc2256d53d",
   "metadata": {},
   "source": [
    "<p>Looks better, but let's capiitalize every word in each header using method <code>title()</code> and leave column \"SKU\" as it is:\n"
   ]
  },
  {
   "cell_type": "code",
   "execution_count": 12,
   "id": "fc6e8971-8f73-4e60-85a6-0397673337c1",
   "metadata": {},
   "outputs": [
    {
     "name": "stdout",
     "output_type": "stream",
     "text": [
      "Index(['Date', 'SKU', 'Group', 'Units Pkg', 'Avg Price Pkg', 'Sales Pkg'], dtype='object')\n"
     ]
    }
   ],
   "source": [
    "df.columns = [col.title() if col != \"SKU\" else col for col in df.columns]\n",
    "        \n",
    "print(df.columns)"
   ]
  },
  {
   "cell_type": "code",
   "execution_count": 13,
   "id": "431c0f0e-41a8-41cd-9bcb-b537c8b2f46c",
   "metadata": {},
   "outputs": [
    {
     "data": {
      "text/html": [
       "<div>\n",
       "<style scoped>\n",
       "    .dataframe tbody tr th:only-of-type {\n",
       "        vertical-align: middle;\n",
       "    }\n",
       "\n",
       "    .dataframe tbody tr th {\n",
       "        vertical-align: top;\n",
       "    }\n",
       "\n",
       "    .dataframe thead th {\n",
       "        text-align: right;\n",
       "    }\n",
       "</style>\n",
       "<table border=\"1\" class=\"dataframe\">\n",
       "  <thead>\n",
       "    <tr style=\"text-align: right;\">\n",
       "      <th></th>\n",
       "      <th>Date</th>\n",
       "      <th>SKU</th>\n",
       "      <th>Group</th>\n",
       "      <th>Units Pkg</th>\n",
       "      <th>Avg Price Pkg</th>\n",
       "      <th>Sales Pkg</th>\n",
       "    </tr>\n",
       "  </thead>\n",
       "  <tbody>\n",
       "    <tr>\n",
       "      <th>0</th>\n",
       "      <td>201801</td>\n",
       "      <td>SKU_01</td>\n",
       "      <td>A</td>\n",
       "      <td>13</td>\n",
       "      <td>5</td>\n",
       "      <td>879</td>\n",
       "    </tr>\n",
       "    <tr>\n",
       "      <th>1</th>\n",
       "      <td>201801</td>\n",
       "      <td>SKU_02</td>\n",
       "      <td>B</td>\n",
       "      <td>7</td>\n",
       "      <td>7</td>\n",
       "      <td>8</td>\n",
       "    </tr>\n",
       "    <tr>\n",
       "      <th>2</th>\n",
       "      <td>201801</td>\n",
       "      <td>SKU_03</td>\n",
       "      <td>B</td>\n",
       "      <td>7</td>\n",
       "      <td>6</td>\n",
       "      <td>197</td>\n",
       "    </tr>\n",
       "    <tr>\n",
       "      <th>3</th>\n",
       "      <td>201801</td>\n",
       "      <td>SKU_04</td>\n",
       "      <td>C</td>\n",
       "      <td>4</td>\n",
       "      <td>6</td>\n",
       "      <td>1</td>\n",
       "    </tr>\n",
       "    <tr>\n",
       "      <th>4</th>\n",
       "      <td>201801</td>\n",
       "      <td>SKU_05</td>\n",
       "      <td>C</td>\n",
       "      <td>6</td>\n",
       "      <td>8</td>\n",
       "      <td>1</td>\n",
       "    </tr>\n",
       "    <tr>\n",
       "      <th>...</th>\n",
       "      <td>...</td>\n",
       "      <td>...</td>\n",
       "      <td>...</td>\n",
       "      <td>...</td>\n",
       "      <td>...</td>\n",
       "      <td>...</td>\n",
       "    </tr>\n",
       "    <tr>\n",
       "      <th>1495</th>\n",
       "      <td>201911</td>\n",
       "      <td>SKU_97</td>\n",
       "      <td>J</td>\n",
       "      <td>4</td>\n",
       "      <td>10</td>\n",
       "      <td>56</td>\n",
       "    </tr>\n",
       "    <tr>\n",
       "      <th>1496</th>\n",
       "      <td>201911</td>\n",
       "      <td>SKU_117</td>\n",
       "      <td>J</td>\n",
       "      <td>4</td>\n",
       "      <td>10</td>\n",
       "      <td>36</td>\n",
       "    </tr>\n",
       "    <tr>\n",
       "      <th>1497</th>\n",
       "      <td>201911</td>\n",
       "      <td>SKU_93</td>\n",
       "      <td>J</td>\n",
       "      <td>4</td>\n",
       "      <td>10</td>\n",
       "      <td>221</td>\n",
       "    </tr>\n",
       "    <tr>\n",
       "      <th>1498</th>\n",
       "      <td>201911</td>\n",
       "      <td>SKU_84</td>\n",
       "      <td>J</td>\n",
       "      <td>5</td>\n",
       "      <td>11</td>\n",
       "      <td>110</td>\n",
       "    </tr>\n",
       "    <tr>\n",
       "      <th>1499</th>\n",
       "      <td>201911</td>\n",
       "      <td>SKU_85</td>\n",
       "      <td>J</td>\n",
       "      <td>5</td>\n",
       "      <td>11</td>\n",
       "      <td>139</td>\n",
       "    </tr>\n",
       "  </tbody>\n",
       "</table>\n",
       "<p>1500 rows × 6 columns</p>\n",
       "</div>"
      ],
      "text/plain": [
       "        Date      SKU Group  Units Pkg  Avg Price Pkg  Sales Pkg\n",
       "0     201801   SKU_01     A         13              5        879\n",
       "1     201801   SKU_02     B          7              7          8\n",
       "2     201801   SKU_03     B          7              6        197\n",
       "3     201801   SKU_04     C          4              6          1\n",
       "4     201801   SKU_05     C          6              8          1\n",
       "...      ...      ...   ...        ...            ...        ...\n",
       "1495  201911   SKU_97     J          4             10         56\n",
       "1496  201911  SKU_117     J          4             10         36\n",
       "1497  201911   SKU_93     J          4             10        221\n",
       "1498  201911   SKU_84     J          5             11        110\n",
       "1499  201911   SKU_85     J          5             11        139\n",
       "\n",
       "[1500 rows x 6 columns]"
      ]
     },
     "execution_count": 13,
     "metadata": {},
     "output_type": "execute_result"
    }
   ],
   "source": [
    "df.head(1500)"
   ]
  },
  {
   "cell_type": "markdown",
   "id": "f6e22e59-1e51-49fc-8b98-39d940726ddb",
   "metadata": {},
   "source": [
    "Now, we have successfully read the raw dataset and modified headers. Looks much better.\n"
   ]
  },
  {
   "cell_type": "markdown",
   "id": "626b6228-d827-4bf0-a8d5-65f0c259a475",
   "metadata": {},
   "source": [
    "# **Basic Insight of Dataset**\n",
    "<p>\n",
    "After reading data into Pandas dataframe, it is time for us to explore the dataset.<br>\n",
    "\n",
    "There are several ways to obtain essential insights of the data to help us better understand our dataset.\n",
    "\n",
    "</p>\n"
   ]
  },
  {
   "cell_type": "markdown",
   "id": "c23a209a-051b-451d-b1f4-c1c1bb0db21f",
   "metadata": {},
   "source": [
    "## **Data Types**\n",
    "<p>\n",
    "Data has a variety of types.<br>\n",
    "\n",
    "The main types stored in Pandas dataframes are <b>object</b>, <b>float</b>, <b>int</b>, <b>bool</b> and <b>datetime64</b>. In order to better learn about each attribute, it is always good for us to know the data type of each column. In Pandas:\n",
    "\n",
    "</p>\n"
   ]
  },
  {
   "cell_type": "raw",
   "id": "2be1f0e3-9353-435b-be8d-398071889c47",
   "metadata": {},
   "source": [
    "df.types"
   ]
  },
  {
   "cell_type": "code",
   "execution_count": 14,
   "id": "5db21f2f-b387-4c9f-8fcf-806a96e33f0b",
   "metadata": {},
   "outputs": [
    {
     "name": "stdout",
     "output_type": "stream",
     "text": [
      "Date              int64\n",
      "SKU              object\n",
      "Group            object\n",
      "Units Pkg         int64\n",
      "Avg Price Pkg     int64\n",
      "Sales Pkg         int64\n",
      "dtype: object\n"
     ]
    }
   ],
   "source": [
    "# check the data type of data frame \"df\" by .dtypes\n",
    "print(df.dtypes)"
   ]
  },
  {
   "cell_type": "markdown",
   "id": "b17534a8-0bde-449e-80fa-ebd33dec94f0",
   "metadata": {},
   "source": [
    "As we can see, \"SKU\" and \"Group\" are <code>object</code> type, \"Units Pkg\", \"Avg Price Pkg\", \"Date\" and \"Sales Pkg\" are <code>int64</code> type."
   ]
  },
  {
   "cell_type": "markdown",
   "id": "5cce699b-d6ad-4cba-aee7-b9dae05e9470",
   "metadata": {},
   "source": [
    "These data types can be changed; we will learn how to accomplish this in a later module."
   ]
  },
  {
   "cell_type": "markdown",
   "id": "fd544af4-07ea-49d9-83ac-4d72a9d30a53",
   "metadata": {},
   "source": [
    "<p>\n",
    "As shown above, it is clear to see that the data type of \"Units Pkg\", \"Avg Price Pkg\", \"Sales Pkg\" and \"Date\" are <code>int64</code>, \"SKU\" and \"Group\" are <code>object</code>.\n",
    "</p><br>\n",
    "<p>\n",
    "These data types can be changed; we will learn how to accomplish this in a later module.\n",
    "</p>\n"
   ]
  },
  {
   "cell_type": "markdown",
   "id": "a38a5f5b-03d5-4060-a288-894b35b3f565",
   "metadata": {},
   "source": [
    "## **Describe**\n",
    "If we would like to get a statistical summary of each column e.g. count, column mean value, column standard deviation, etc., we use the describe method:\n"
   ]
  },
  {
   "cell_type": "raw",
   "id": "1d55adad-e465-4dad-9c53-4762d8b4f49c",
   "metadata": {},
   "source": [
    "dataframe.describe()"
   ]
  },
  {
   "cell_type": "markdown",
   "id": "91c936a6-fbaa-4a2d-add9-5dd0f12a026d",
   "metadata": {},
   "source": [
    "This method will provide various summary statistics, excluding <code>NaN</code> (Not a Number) values.\n"
   ]
  },
  {
   "cell_type": "code",
   "execution_count": 15,
   "id": "2515b24b-9516-4c7a-92ab-0268d78ecce8",
   "metadata": {},
   "outputs": [
    {
     "data": {
      "text/html": [
       "<div>\n",
       "<style scoped>\n",
       "    .dataframe tbody tr th:only-of-type {\n",
       "        vertical-align: middle;\n",
       "    }\n",
       "\n",
       "    .dataframe tbody tr th {\n",
       "        vertical-align: top;\n",
       "    }\n",
       "\n",
       "    .dataframe thead th {\n",
       "        text-align: right;\n",
       "    }\n",
       "</style>\n",
       "<table border=\"1\" class=\"dataframe\">\n",
       "  <thead>\n",
       "    <tr style=\"text-align: right;\">\n",
       "      <th></th>\n",
       "      <th>Date</th>\n",
       "      <th>Units Pkg</th>\n",
       "      <th>Avg Price Pkg</th>\n",
       "      <th>Sales Pkg</th>\n",
       "    </tr>\n",
       "  </thead>\n",
       "  <tbody>\n",
       "    <tr>\n",
       "      <th>count</th>\n",
       "      <td>4138.000000</td>\n",
       "      <td>4138.000000</td>\n",
       "      <td>4138.000000</td>\n",
       "      <td>4138.000000</td>\n",
       "    </tr>\n",
       "    <tr>\n",
       "      <th>mean</th>\n",
       "      <td>202015.618173</td>\n",
       "      <td>12.881344</td>\n",
       "      <td>9.138231</td>\n",
       "      <td>335.733446</td>\n",
       "    </tr>\n",
       "    <tr>\n",
       "      <th>std</th>\n",
       "      <td>142.616710</td>\n",
       "      <td>22.024843</td>\n",
       "      <td>3.551443</td>\n",
       "      <td>419.834537</td>\n",
       "    </tr>\n",
       "    <tr>\n",
       "      <th>min</th>\n",
       "      <td>201801.000000</td>\n",
       "      <td>0.000000</td>\n",
       "      <td>2.000000</td>\n",
       "      <td>0.000000</td>\n",
       "    </tr>\n",
       "    <tr>\n",
       "      <th>25%</th>\n",
       "      <td>201905.000000</td>\n",
       "      <td>5.000000</td>\n",
       "      <td>7.000000</td>\n",
       "      <td>65.000000</td>\n",
       "    </tr>\n",
       "    <tr>\n",
       "      <th>50%</th>\n",
       "      <td>202008.000000</td>\n",
       "      <td>5.000000</td>\n",
       "      <td>9.000000</td>\n",
       "      <td>180.000000</td>\n",
       "    </tr>\n",
       "    <tr>\n",
       "      <th>75%</th>\n",
       "      <td>202111.000000</td>\n",
       "      <td>7.000000</td>\n",
       "      <td>11.000000</td>\n",
       "      <td>436.750000</td>\n",
       "    </tr>\n",
       "    <tr>\n",
       "      <th>max</th>\n",
       "      <td>202212.000000</td>\n",
       "      <td>100.000000</td>\n",
       "      <td>26.000000</td>\n",
       "      <td>3364.000000</td>\n",
       "    </tr>\n",
       "  </tbody>\n",
       "</table>\n",
       "</div>"
      ],
      "text/plain": [
       "                Date    Units Pkg  Avg Price Pkg    Sales Pkg\n",
       "count    4138.000000  4138.000000    4138.000000  4138.000000\n",
       "mean   202015.618173    12.881344       9.138231   335.733446\n",
       "std       142.616710    22.024843       3.551443   419.834537\n",
       "min    201801.000000     0.000000       2.000000     0.000000\n",
       "25%    201905.000000     5.000000       7.000000    65.000000\n",
       "50%    202008.000000     5.000000       9.000000   180.000000\n",
       "75%    202111.000000     7.000000      11.000000   436.750000\n",
       "max    202212.000000   100.000000      26.000000  3364.000000"
      ]
     },
     "execution_count": 15,
     "metadata": {},
     "output_type": "execute_result"
    }
   ],
   "source": [
    "df.describe()"
   ]
  },
  {
   "cell_type": "markdown",
   "id": "c59feff6-855c-4e72-92a0-b210a295969f",
   "metadata": {},
   "source": [
    "<p>\n",
    "This shows the statistical summary of all numeric-typed (int, float) columns.<br>\n",
    "\n",
    "For example, the attribute \"Avg Price Pkg\" has 4138 counts, the mean value of this column is 9.138231, the standard deviation is 3.551443, the minimum value is 2, 25th percentile is 7, 50th percentile is 9, 75th percentile is 11, and the maximum value is 26. <br>\n",
    "\n",
    "However, what if we would also like to check all the columns including those that are of type object? <br><br>\n",
    "\n",
    "You can add an argument <code>include = \"all\"</code> inside the bracket. Let's try it again.\n",
    "\n",
    "</p>\n"
   ]
  },
  {
   "cell_type": "code",
   "execution_count": 16,
   "id": "17d07564-0c1c-4ae7-9191-6329696bf6a6",
   "metadata": {},
   "outputs": [
    {
     "data": {
      "text/html": [
       "<div>\n",
       "<style scoped>\n",
       "    .dataframe tbody tr th:only-of-type {\n",
       "        vertical-align: middle;\n",
       "    }\n",
       "\n",
       "    .dataframe tbody tr th {\n",
       "        vertical-align: top;\n",
       "    }\n",
       "\n",
       "    .dataframe thead th {\n",
       "        text-align: right;\n",
       "    }\n",
       "</style>\n",
       "<table border=\"1\" class=\"dataframe\">\n",
       "  <thead>\n",
       "    <tr style=\"text-align: right;\">\n",
       "      <th></th>\n",
       "      <th>Date</th>\n",
       "      <th>SKU</th>\n",
       "      <th>Group</th>\n",
       "      <th>Units Pkg</th>\n",
       "      <th>Avg Price Pkg</th>\n",
       "      <th>Sales Pkg</th>\n",
       "    </tr>\n",
       "  </thead>\n",
       "  <tbody>\n",
       "    <tr>\n",
       "      <th>count</th>\n",
       "      <td>4138.000000</td>\n",
       "      <td>4138</td>\n",
       "      <td>4138</td>\n",
       "      <td>4138.000000</td>\n",
       "      <td>4138.000000</td>\n",
       "      <td>4138.000000</td>\n",
       "    </tr>\n",
       "    <tr>\n",
       "      <th>unique</th>\n",
       "      <td>NaN</td>\n",
       "      <td>188</td>\n",
       "      <td>25</td>\n",
       "      <td>NaN</td>\n",
       "      <td>NaN</td>\n",
       "      <td>NaN</td>\n",
       "    </tr>\n",
       "    <tr>\n",
       "      <th>top</th>\n",
       "      <td>NaN</td>\n",
       "      <td>SKU_29</td>\n",
       "      <td>D</td>\n",
       "      <td>NaN</td>\n",
       "      <td>NaN</td>\n",
       "      <td>NaN</td>\n",
       "    </tr>\n",
       "    <tr>\n",
       "      <th>freq</th>\n",
       "      <td>NaN</td>\n",
       "      <td>60</td>\n",
       "      <td>592</td>\n",
       "      <td>NaN</td>\n",
       "      <td>NaN</td>\n",
       "      <td>NaN</td>\n",
       "    </tr>\n",
       "    <tr>\n",
       "      <th>mean</th>\n",
       "      <td>202015.618173</td>\n",
       "      <td>NaN</td>\n",
       "      <td>NaN</td>\n",
       "      <td>12.881344</td>\n",
       "      <td>9.138231</td>\n",
       "      <td>335.733446</td>\n",
       "    </tr>\n",
       "    <tr>\n",
       "      <th>std</th>\n",
       "      <td>142.616710</td>\n",
       "      <td>NaN</td>\n",
       "      <td>NaN</td>\n",
       "      <td>22.024843</td>\n",
       "      <td>3.551443</td>\n",
       "      <td>419.834537</td>\n",
       "    </tr>\n",
       "    <tr>\n",
       "      <th>min</th>\n",
       "      <td>201801.000000</td>\n",
       "      <td>NaN</td>\n",
       "      <td>NaN</td>\n",
       "      <td>0.000000</td>\n",
       "      <td>2.000000</td>\n",
       "      <td>0.000000</td>\n",
       "    </tr>\n",
       "    <tr>\n",
       "      <th>25%</th>\n",
       "      <td>201905.000000</td>\n",
       "      <td>NaN</td>\n",
       "      <td>NaN</td>\n",
       "      <td>5.000000</td>\n",
       "      <td>7.000000</td>\n",
       "      <td>65.000000</td>\n",
       "    </tr>\n",
       "    <tr>\n",
       "      <th>50%</th>\n",
       "      <td>202008.000000</td>\n",
       "      <td>NaN</td>\n",
       "      <td>NaN</td>\n",
       "      <td>5.000000</td>\n",
       "      <td>9.000000</td>\n",
       "      <td>180.000000</td>\n",
       "    </tr>\n",
       "    <tr>\n",
       "      <th>75%</th>\n",
       "      <td>202111.000000</td>\n",
       "      <td>NaN</td>\n",
       "      <td>NaN</td>\n",
       "      <td>7.000000</td>\n",
       "      <td>11.000000</td>\n",
       "      <td>436.750000</td>\n",
       "    </tr>\n",
       "    <tr>\n",
       "      <th>max</th>\n",
       "      <td>202212.000000</td>\n",
       "      <td>NaN</td>\n",
       "      <td>NaN</td>\n",
       "      <td>100.000000</td>\n",
       "      <td>26.000000</td>\n",
       "      <td>3364.000000</td>\n",
       "    </tr>\n",
       "  </tbody>\n",
       "</table>\n",
       "</div>"
      ],
      "text/plain": [
       "                 Date     SKU Group    Units Pkg  Avg Price Pkg    Sales Pkg\n",
       "count     4138.000000    4138  4138  4138.000000    4138.000000  4138.000000\n",
       "unique            NaN     188    25          NaN            NaN          NaN\n",
       "top               NaN  SKU_29     D          NaN            NaN          NaN\n",
       "freq              NaN      60   592          NaN            NaN          NaN\n",
       "mean    202015.618173     NaN   NaN    12.881344       9.138231   335.733446\n",
       "std        142.616710     NaN   NaN    22.024843       3.551443   419.834537\n",
       "min     201801.000000     NaN   NaN     0.000000       2.000000     0.000000\n",
       "25%     201905.000000     NaN   NaN     5.000000       7.000000    65.000000\n",
       "50%     202008.000000     NaN   NaN     5.000000       9.000000   180.000000\n",
       "75%     202111.000000     NaN   NaN     7.000000      11.000000   436.750000\n",
       "max     202212.000000     NaN   NaN   100.000000      26.000000  3364.000000"
      ]
     },
     "execution_count": 16,
     "metadata": {},
     "output_type": "execute_result"
    }
   ],
   "source": [
    "# describe all the columns in \"df\" \n",
    "df.describe(include = \"all\")"
   ]
  },
  {
   "cell_type": "markdown",
   "id": "c316d000-b176-4b6b-8027-65afe50e29c4",
   "metadata": {},
   "source": [
    "<p>\n",
    "Now it provides the statistical summary of all the columns, including object-typed attributes.<br>\n",
    "\n",
    "We can now see how many unique values there, which one is the top value and the frequency of top value in the object-typed columns.<br>\n",
    "\n",
    "Some values in the table above show as \"NaN\". This is because those numbers are not available regarding a particular column type.<br>\n",
    "\n",
    "</p>\n"
   ]
  },
  {
   "cell_type": "markdown",
   "id": "ba533f52-7f9d-49fa-84e3-337eb949d23f",
   "metadata": {},
   "source": [
    "<div class=\"alert alert-danger alertdanger\" style=\"margin-top: 20px\">\n",
    "<h1> Question #3: </h1>\n",
    "\n",
    "<p>\n",
    "You can select the columns of a dataframe by indicating the name of each column. For example, you can select the three columns as follows:\n",
    "</p>\n",
    "<p>\n",
    "    <code>dataframe[[' column 1 ',column 2', 'column 3']]</code>\n",
    "</p>\n",
    "<p>\n",
    "Where \"column\" is the name of the column, you can apply the method  \".describe()\" to get the statistics of those columns as follows:\n",
    "</p>\n",
    "<p>\n",
    "    <code>dataframe[[' column 1 ',column 2', 'column 3'] ].describe()</code>\n",
    "</p>\n",
    "\n",
    "Apply the  method to \".describe()\" to the columns 'Date' and 'Units Pkg'.\n",
    "\n",
    "</div>\n"
   ]
  },
  {
   "cell_type": "code",
   "execution_count": 17,
   "id": "ee532f0c-ac0d-4948-9279-fea965144177",
   "metadata": {},
   "outputs": [],
   "source": [
    "# Write your code below and press Shift+Enter to execute \n"
   ]
  },
  {
   "cell_type": "markdown",
   "id": "3b4b7f2c-37f8-4881-ab90-ef860ae99706",
   "metadata": {},
   "source": [
    "<details><summary>Click here for the solution</summary>\n",
    "\n",
    "```python\n",
    "df[['Date', 'Units Pkg']].describe()\n",
    "```\n",
    "\n",
    "</details>\n"
   ]
  },
  {
   "cell_type": "markdown",
   "id": "72466459-2d1c-4d14-887b-d211c477a741",
   "metadata": {},
   "source": [
    "## **Info**\n",
    "Another method you can use to check your dataset is:\n"
   ]
  },
  {
   "cell_type": "raw",
   "id": "29fb9ac9-d89c-40f5-892a-d5ebab0754c4",
   "metadata": {},
   "source": [
    "dataframe.info()"
   ]
  },
  {
   "cell_type": "markdown",
   "id": "1ee75327-8b3d-448c-b136-57fd7ada68f9",
   "metadata": {},
   "source": [
    "It provides a concise summary of your DataFrame.\n",
    "\n",
    "This method prints information about a DataFrame including the index dtype and columns, non-null values and memory usage.\n"
   ]
  },
  {
   "cell_type": "code",
   "execution_count": 18,
   "id": "16d84c22-d00a-4b02-a851-0985ba96054d",
   "metadata": {},
   "outputs": [
    {
     "name": "stdout",
     "output_type": "stream",
     "text": [
      "<class 'pandas.core.frame.DataFrame'>\n",
      "RangeIndex: 4138 entries, 0 to 4137\n",
      "Data columns (total 6 columns):\n",
      " #   Column         Non-Null Count  Dtype \n",
      "---  ------         --------------  ----- \n",
      " 0   Date           4138 non-null   int64 \n",
      " 1   SKU            4138 non-null   object\n",
      " 2   Group          4138 non-null   object\n",
      " 3   Units Pkg      4138 non-null   int64 \n",
      " 4   Avg Price Pkg  4138 non-null   int64 \n",
      " 5   Sales Pkg      4138 non-null   int64 \n",
      "dtypes: int64(4), object(2)\n",
      "memory usage: 194.1+ KB\n"
     ]
    }
   ],
   "source": [
    "# look at the info of \"df\"\n",
    "df.info()"
   ]
  },
  {
   "cell_type": "markdown",
   "id": "38303f24-dbae-48e4-9b25-1f59e3fa053a",
   "metadata": {},
   "source": [
    "As we can see, there aren't null values. Great!"
   ]
  },
  {
   "cell_type": "markdown",
   "id": "ab3f87bc-0d4d-417a-85cf-47e3e1a6f78f",
   "metadata": {},
   "source": [
    "## **Save Dataset**\n",
    "<p>\n",
    "Correspondingly, Pandas enables us to save the dataset to csv. By using the <code>dataframe.to_csv()</code> method, you can add the file path and name along with quotation marks in the brackets.\n",
    "</p>\n",
    "<p>\n",
    "For example, if you would save the dataframe <b>df</b> as <b>automobile.csv</b> to your local machine, you may use the syntax below, where <code>index = False</code> means the row names will not be written.\n",
    "</p>\n"
   ]
  },
  {
   "cell_type": "code",
   "execution_count": 19,
   "id": "a6866a84-216b-4e1f-ac26-7a41d213187b",
   "metadata": {},
   "outputs": [],
   "source": [
    "df.to_csv(\"sales_1.csv\", index=False)"
   ]
  },
  {
   "cell_type": "markdown",
   "id": "d8cc1042-0e28-4da1-8720-653dbdac57c3",
   "metadata": {},
   "source": [
    "We can also read and save other file formats. We can use similar functions like **`pd.read_csv()`** and **`df.to_csv()`** for other data formats. The functions are listed in the following table:\n"
   ]
  },
  {
   "cell_type": "markdown",
   "id": "21075238-6c94-4a54-b341-596bf435b79d",
   "metadata": {},
   "source": [
    "## **Read/Save Other Data Formats**\n",
    "\n",
    "| Data Formate |        Read       |            Save |\n",
    "| ------------ | :---------------: | --------------: |\n",
    "| csv          |  `pd.read_csv()`  |   `df.to_csv()` |\n",
    "| json         |  `pd.read_json()` |  `df.to_json()` |\n",
    "| excel        | `pd.read_excel()` | `df.to_excel()` |\n",
    "| hdf          |  `pd.read_hdf()`  |   `df.to_hdf()` |\n",
    "| sql          |  `pd.read_sql()`  |   `df.to_sql()` |\n",
    "| ...          |        ...        |             ... |\n"
   ]
  },
  {
   "cell_type": "markdown",
   "id": "b5da2274-3c5f-487b-8475-63d2bb01147f",
   "metadata": {},
   "source": [
    "## **Excellent! You have just completed the Introduction Notebook!**\n"
   ]
  },
  {
   "cell_type": "markdown",
   "id": "33db06d8-a48c-4cc4-b4e2-993e588c8497",
   "metadata": {},
   "source": [
    "### Thank you for completing this lab!\n",
    "\n",
    "## Author\n",
    "\n",
    "<a href=\"https://www.linkedin.com/in/joseph-s-50398b136/?utm_medium=Exinfluencer&utm_source=Exinfluencer&utm_content=000026UJ&utm_term=10006555&utm_id=NA-SkillsNetwork-Channel-SkillsNetworkCoursesIBMDeveloperSkillsNetworkDA0101ENSkillsNetwork20235326-2021-01-01\" target=\"_blank\">Joseph Santarcangelo</a>\n",
    "\n",
    "### Other Contributors\n",
    "\n",
    "<a href=\"https://www.linkedin.com/in/mahdi-noorian-58219234/?utm_medium=Exinfluencer&utm_source=Exinfluencer&utm_content=000026UJ&utm_term=10006555&utm_id=NA-SkillsNetwork-Channel-SkillsNetworkCoursesIBMDeveloperSkillsNetworkDA0101ENSkillsNetwork20235326-2021-01-01\" target=\"_blank\">Mahdi Noorian PhD</a>\n",
    "\n",
    "Bahare Talayian\n",
    "\n",
    "Eric Xiao\n",
    "\n",
    "Steven Dong\n",
    "\n",
    "Parizad\n",
    "\n",
    "Hima Vasudevan\n",
    "\n",
    "<a href=\"https://www.linkedin.com/in/fiorellawever/?utm_medium=Exinfluencer&utm_source=Exinfluencer&utm_content=000026UJ&utm_term=10006555&utm_id=NA-SkillsNetwork-Channel-SkillsNetworkCoursesIBMDeveloperSkillsNetworkDA0101ENSkillsNetwork20235326-2021-01-01\" target=\"_blank\">Fiorella Wenver</a>\n",
    "\n",
    "<a href=\"https:// https://www.linkedin.com/in/yi-leng-yao-84451275/ \" target=\"_blank\" >Yi Yao</a>.\n",
    "\n",
    "## Change Log\n",
    "\n",
    "| Date (YYYY-MM-DD) | Version | Changed By | Change Description                                         |\n",
    "| ----------------- | ------- | ---------- | ---------------------------------------------------------- |\n",
    "| 2022-08-23        | 2.4     | Malika     | Import micropip added and parameter for ipwidgets and tqdm |\n",
    "| 2020-10-30        | 2.3     | Lakshmi    | Changed URL of the csv                                     |\n",
    "| 2020-09-22        | 2.2     | Nayef      | Added replace() method to remove '?'                       |\n",
    "| 2020-09-09        | 2.1     | Lakshmi    | Made changes in info method of dataframe                   |\n",
    "| 2020-08-27        | 2.0     | Lavanya    | Moved lab to course repo in GitLab                         |\n",
    "\n",
    "<hr>\n",
    "\n",
    "## <h3 align=\"center\"> © IBM Corporation 2020. All rights reserved. <h3/>\n"
   ]
  }
 ],
 "metadata": {
  "kernelspec": {
   "display_name": "Python 3 (ipykernel)",
   "language": "python",
   "name": "python3"
  },
  "language_info": {
   "codemirror_mode": {
    "name": "ipython",
    "version": 3
   },
   "file_extension": ".py",
   "mimetype": "text/x-python",
   "name": "python",
   "nbconvert_exporter": "python",
   "pygments_lexer": "ipython3",
   "version": "3.9.13"
  }
 },
 "nbformat": 4,
 "nbformat_minor": 5
}
